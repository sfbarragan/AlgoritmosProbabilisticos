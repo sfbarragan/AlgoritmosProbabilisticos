{
 "cells": [
  {
   "cell_type": "code",
   "execution_count": 1,
   "id": "c744a9a6",
   "metadata": {},
   "outputs": [],
   "source": [
    "#Inporatamos la libreria pandas\n",
    "import pandas as pd \n",
    "#Inporatamos la libreria seaborn\n",
    "import seaborn as sns\n",
    "#Inporatamos la libreria numpy\n",
    "import numpy as np"
   ]
  },
  {
   "cell_type": "code",
   "execution_count": null,
   "id": "59913ad7",
   "metadata": {},
   "outputs": [],
   "source": [
    "#El mismo pandas tiene diferntes tipo de archivos para cargar el dataset\n",
    "df = pd.read_csv('titanic.csv')\n",
    "df.head()"
   ]
  }
 ],
 "metadata": {
  "kernelspec": {
   "display_name": "Python 3 (ipykernel)",
   "language": "python",
   "name": "python3"
  },
  "language_info": {
   "codemirror_mode": {
    "name": "ipython",
    "version": 3
   },
   "file_extension": ".py",
   "mimetype": "text/x-python",
   "name": "python",
   "nbconvert_exporter": "python",
   "pygments_lexer": "ipython3",
   "version": "3.9.7"
  }
 },
 "nbformat": 4,
 "nbformat_minor": 5
}
