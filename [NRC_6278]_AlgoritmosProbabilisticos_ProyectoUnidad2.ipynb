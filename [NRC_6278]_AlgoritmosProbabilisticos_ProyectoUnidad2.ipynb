{
 "cells": [
  {
   "cell_type": "code",
   "execution_count": 91,
   "id": "c744a9a6",
   "metadata": {},
   "outputs": [],
   "source": [
    "#Importamos la libreria pandas\n",
    "import pandas as pd \n",
    "#Importamos la libreria seaborn\n",
    "import seaborn as sns\n",
    "#Importamos la libreria numpy\n",
    "import numpy as np\n",
    "#Importamos LabelEncoder desde la libreria sklearn\n",
    "from sklearn.preprocessing import LabelEncoder\n",
    "#Importamos train_test_split desde la libreria sklearn\n",
    "from sklearn.model_selection import train_test_split\n",
    "#Importamos MinMaxScaler desde la libreria sklearn\n",
    "from sklearn.preprocessing import MinMaxScaler\n",
    "#Importamos la libreria matplotlib\n",
    "import matplotlib.pyplot as plt\n",
    "#Importamos GaussianNB desde la libreria sklearn\n",
    "from sklearn.naive_bayes import GaussianNB\n",
    "#Importamos Metric desde la libreria sklearn\n",
    "from sklearn import metrics\n",
    "#Importamos la libreria collections\n",
    "import collections\n",
    "#Importamos hiden markov model desde la libreria hmmlearn\n",
    "from hmmlearn import hmm\n",
    "#Importamos confusion_matrix desde la libreria sklearn\n",
    "from sklearn.metrics import confusion_matrix\n",
    "# Importamos acurracy_score desde la libreria sklearn\n",
    "from sklearn.metrics import accuracy_score\n",
    "#Importamos recall_score desde la libreria sklearn\n",
    "from sklearn.metrics import recall_score\n",
    "#Importamos precision_score desde la libreria sklearn\n",
    "from sklearn.metrics import precision_score\n",
    "#Importamos f1_score desde la libreria sklearn\n",
    "from sklearn.metrics import f1_score\n",
    "#Importamos la libreria de fuzzy logic\n",
    "#from fuzzywuzzy import process\n",
    "#Importamos StandardScaler de la libreria sklearn\n",
    "from sklearn.preprocessing import StandardScaler"
   ]
  },
  {
   "cell_type": "code",
   "execution_count": 62,
   "id": "59913ad7",
   "metadata": {},
   "outputs": [
    {
     "data": {
      "text/html": [
       "<div>\n",
       "<style scoped>\n",
       "    .dataframe tbody tr th:only-of-type {\n",
       "        vertical-align: middle;\n",
       "    }\n",
       "\n",
       "    .dataframe tbody tr th {\n",
       "        vertical-align: top;\n",
       "    }\n",
       "\n",
       "    .dataframe thead th {\n",
       "        text-align: right;\n",
       "    }\n",
       "</style>\n",
       "<table border=\"1\" class=\"dataframe\">\n",
       "  <thead>\n",
       "    <tr style=\"text-align: right;\">\n",
       "      <th></th>\n",
       "      <th>id</th>\n",
       "      <th>name</th>\n",
       "      <th>est_diameter_min</th>\n",
       "      <th>est_diameter_max</th>\n",
       "      <th>relative_velocity</th>\n",
       "      <th>miss_distance</th>\n",
       "      <th>orbiting_body</th>\n",
       "      <th>sentry_object</th>\n",
       "      <th>absolute_magnitude</th>\n",
       "      <th>hazardous</th>\n",
       "    </tr>\n",
       "  </thead>\n",
       "  <tbody>\n",
       "    <tr>\n",
       "      <th>0</th>\n",
       "      <td>2162635</td>\n",
       "      <td>162635 (2000 SS164)</td>\n",
       "      <td>1.198271</td>\n",
       "      <td>2.679415</td>\n",
       "      <td>13569.249224</td>\n",
       "      <td>5.483974e+07</td>\n",
       "      <td>Earth</td>\n",
       "      <td>False</td>\n",
       "      <td>16.73</td>\n",
       "      <td>False</td>\n",
       "    </tr>\n",
       "    <tr>\n",
       "      <th>1</th>\n",
       "      <td>2277475</td>\n",
       "      <td>277475 (2005 WK4)</td>\n",
       "      <td>0.265800</td>\n",
       "      <td>0.594347</td>\n",
       "      <td>73588.726663</td>\n",
       "      <td>6.143813e+07</td>\n",
       "      <td>Earth</td>\n",
       "      <td>False</td>\n",
       "      <td>20.00</td>\n",
       "      <td>True</td>\n",
       "    </tr>\n",
       "    <tr>\n",
       "      <th>2</th>\n",
       "      <td>2512244</td>\n",
       "      <td>512244 (2015 YE18)</td>\n",
       "      <td>0.722030</td>\n",
       "      <td>1.614507</td>\n",
       "      <td>114258.692129</td>\n",
       "      <td>4.979872e+07</td>\n",
       "      <td>Earth</td>\n",
       "      <td>False</td>\n",
       "      <td>17.83</td>\n",
       "      <td>False</td>\n",
       "    </tr>\n",
       "    <tr>\n",
       "      <th>3</th>\n",
       "      <td>3596030</td>\n",
       "      <td>(2012 BV13)</td>\n",
       "      <td>0.096506</td>\n",
       "      <td>0.215794</td>\n",
       "      <td>24764.303138</td>\n",
       "      <td>2.543497e+07</td>\n",
       "      <td>Earth</td>\n",
       "      <td>False</td>\n",
       "      <td>22.20</td>\n",
       "      <td>False</td>\n",
       "    </tr>\n",
       "    <tr>\n",
       "      <th>4</th>\n",
       "      <td>3667127</td>\n",
       "      <td>(2014 GE35)</td>\n",
       "      <td>0.255009</td>\n",
       "      <td>0.570217</td>\n",
       "      <td>42737.733765</td>\n",
       "      <td>4.627557e+07</td>\n",
       "      <td>Earth</td>\n",
       "      <td>False</td>\n",
       "      <td>20.09</td>\n",
       "      <td>True</td>\n",
       "    </tr>\n",
       "  </tbody>\n",
       "</table>\n",
       "</div>"
      ],
      "text/plain": [
       "        id                 name  est_diameter_min  est_diameter_max  \\\n",
       "0  2162635  162635 (2000 SS164)          1.198271          2.679415   \n",
       "1  2277475    277475 (2005 WK4)          0.265800          0.594347   \n",
       "2  2512244   512244 (2015 YE18)          0.722030          1.614507   \n",
       "3  3596030          (2012 BV13)          0.096506          0.215794   \n",
       "4  3667127          (2014 GE35)          0.255009          0.570217   \n",
       "\n",
       "   relative_velocity  miss_distance orbiting_body  sentry_object  \\\n",
       "0       13569.249224   5.483974e+07         Earth          False   \n",
       "1       73588.726663   6.143813e+07         Earth          False   \n",
       "2      114258.692129   4.979872e+07         Earth          False   \n",
       "3       24764.303138   2.543497e+07         Earth          False   \n",
       "4       42737.733765   4.627557e+07         Earth          False   \n",
       "\n",
       "   absolute_magnitude  hazardous  \n",
       "0               16.73      False  \n",
       "1               20.00       True  \n",
       "2               17.83      False  \n",
       "3               22.20      False  \n",
       "4               20.09       True  "
      ]
     },
     "execution_count": 62,
     "metadata": {},
     "output_type": "execute_result"
    }
   ],
   "source": [
    "# Establecemos el enlace de conexión del dataset\n",
    "url = 'https://raw.githubusercontent.com/sfbarragan/AlgoritmosProbabilisticos/master/neo.csv'\n",
    "# Cargamos el dataset\n",
    "df = pd.read_csv(url)\n",
    "# Mostramos los datos del dataset\n",
    "df.head()"
   ]
  },
  {
   "cell_type": "markdown",
   "id": "70a9d978",
   "metadata": {},
   "source": [
    "# Descripción del dataset\n",
    "\n",
    "El dataset contiene información de mas de 90000 asteroides. Dicho dataset contiene 10 atributos, incluida una característica de clase (objetivo) que indica si el asteroide es o no peligroso (True/False). El significado comercial de cada columna (atributo) en los datos es el siguiente:\n",
    "\n",
    "**Variable objetivo**<br>\n",
    "hazardous: Clasificación del asteroide como peligroso o no (True/False).<br>\n",
    "\n",
    "**Variables de entrada**<br>\n",
    "id: Identificador único de cada asteroide <br>\n",
    "name: Nombre del asteroide dado por la NASA<br>\n",
    "est_diameter_min: Diámetro mínimo estimado en kilómetros<br>\n",
    "est_diameter_max: Diámetro Máximo Estimado en Kilómetros<br>\n",
    "relative_velocity: Velocidad relativa a la Tierra<br>\n",
    "miss_distance: Distancia en Kilómetros perdidos<br>\n",
    "orbiting_body: Planeta que órbita el asteroide<br>\n",
    "sentry_object: Sistema automatizado de monitoreo de colisiones<br>\n",
    "absolute_magnitude: Describe la luminosidad intrínseca<br>\n"
   ]
  },
  {
   "cell_type": "markdown",
   "id": "a0ca7d6b",
   "metadata": {},
   "source": [
    "# Problema a resolver\n",
    "\n",
    "Este dataset contiene varios parámetros/características según los cuales un asteroide en particular que ya está clasificado como el objeto más cercano a la Tierra. En base a dichos parámetros se desea predecir si el asteroide puede o no ser peligroso.\n",
    "\n",
    "Como conocemos que no podemos procesar esa cantidad de datos, hemos optado por realizar un sampling de los datos tomado como muestra un total de 2500 datos para entrenar el modelo. Donde la variable objetivo se denomina hazardous. Existen 9 variables de entrada llamadas: id, name, est_diameter_min, est_diameter_max, relative_velocity, miss_distance, orbiting_body, sentry_object y absolute_magnitude."
   ]
  },
  {
   "cell_type": "code",
   "execution_count": 110,
   "id": "c91002d2",
   "metadata": {},
   "outputs": [
    {
     "data": {
      "text/html": [
       "<div>\n",
       "<style scoped>\n",
       "    .dataframe tbody tr th:only-of-type {\n",
       "        vertical-align: middle;\n",
       "    }\n",
       "\n",
       "    .dataframe tbody tr th {\n",
       "        vertical-align: top;\n",
       "    }\n",
       "\n",
       "    .dataframe thead th {\n",
       "        text-align: right;\n",
       "    }\n",
       "</style>\n",
       "<table border=\"1\" class=\"dataframe\">\n",
       "  <thead>\n",
       "    <tr style=\"text-align: right;\">\n",
       "      <th></th>\n",
       "      <th>id</th>\n",
       "      <th>name</th>\n",
       "      <th>est_diameter_min</th>\n",
       "      <th>est_diameter_max</th>\n",
       "      <th>relative_velocity</th>\n",
       "      <th>miss_distance</th>\n",
       "      <th>orbiting_body</th>\n",
       "      <th>sentry_object</th>\n",
       "      <th>absolute_magnitude</th>\n",
       "      <th>hazardous</th>\n",
       "    </tr>\n",
       "  </thead>\n",
       "  <tbody>\n",
       "    <tr>\n",
       "      <th>81740</th>\n",
       "      <td>54099952</td>\n",
       "      <td>(2020 UM8)</td>\n",
       "      <td>0.024241</td>\n",
       "      <td>0.054205</td>\n",
       "      <td>23896.393181</td>\n",
       "      <td>7.999801e+06</td>\n",
       "      <td>Earth</td>\n",
       "      <td>False</td>\n",
       "      <td>25.20</td>\n",
       "      <td>False</td>\n",
       "    </tr>\n",
       "    <tr>\n",
       "      <th>33208</th>\n",
       "      <td>3893722</td>\n",
       "      <td>(2019 WR4)</td>\n",
       "      <td>0.016016</td>\n",
       "      <td>0.035813</td>\n",
       "      <td>28966.710838</td>\n",
       "      <td>2.067081e+07</td>\n",
       "      <td>Earth</td>\n",
       "      <td>False</td>\n",
       "      <td>26.10</td>\n",
       "      <td>False</td>\n",
       "    </tr>\n",
       "    <tr>\n",
       "      <th>42743</th>\n",
       "      <td>3837986</td>\n",
       "      <td>(2019 BJ2)</td>\n",
       "      <td>0.058151</td>\n",
       "      <td>0.130029</td>\n",
       "      <td>24140.974272</td>\n",
       "      <td>7.466856e+07</td>\n",
       "      <td>Earth</td>\n",
       "      <td>False</td>\n",
       "      <td>23.30</td>\n",
       "      <td>False</td>\n",
       "    </tr>\n",
       "    <tr>\n",
       "      <th>10165</th>\n",
       "      <td>54216326</td>\n",
       "      <td>(2021 VU2)</td>\n",
       "      <td>0.007491</td>\n",
       "      <td>0.016751</td>\n",
       "      <td>23112.953726</td>\n",
       "      <td>3.301052e+07</td>\n",
       "      <td>Earth</td>\n",
       "      <td>False</td>\n",
       "      <td>27.75</td>\n",
       "      <td>False</td>\n",
       "    </tr>\n",
       "    <tr>\n",
       "      <th>89534</th>\n",
       "      <td>54254424</td>\n",
       "      <td>(2022 ET4)</td>\n",
       "      <td>0.041933</td>\n",
       "      <td>0.093765</td>\n",
       "      <td>65154.483812</td>\n",
       "      <td>3.260286e+06</td>\n",
       "      <td>Earth</td>\n",
       "      <td>False</td>\n",
       "      <td>24.01</td>\n",
       "      <td>False</td>\n",
       "    </tr>\n",
       "  </tbody>\n",
       "</table>\n",
       "</div>"
      ],
      "text/plain": [
       "             id        name  est_diameter_min  est_diameter_max  \\\n",
       "81740  54099952  (2020 UM8)          0.024241          0.054205   \n",
       "33208   3893722  (2019 WR4)          0.016016          0.035813   \n",
       "42743   3837986  (2019 BJ2)          0.058151          0.130029   \n",
       "10165  54216326  (2021 VU2)          0.007491          0.016751   \n",
       "89534  54254424  (2022 ET4)          0.041933          0.093765   \n",
       "\n",
       "       relative_velocity  miss_distance orbiting_body  sentry_object  \\\n",
       "81740       23896.393181   7.999801e+06         Earth          False   \n",
       "33208       28966.710838   2.067081e+07         Earth          False   \n",
       "42743       24140.974272   7.466856e+07         Earth          False   \n",
       "10165       23112.953726   3.301052e+07         Earth          False   \n",
       "89534       65154.483812   3.260286e+06         Earth          False   \n",
       "\n",
       "       absolute_magnitude  hazardous  \n",
       "81740               25.20      False  \n",
       "33208               26.10      False  \n",
       "42743               23.30      False  \n",
       "10165               27.75      False  \n",
       "89534               24.01      False  "
      ]
     },
     "execution_count": 110,
     "metadata": {},
     "output_type": "execute_result"
    }
   ],
   "source": [
    "# Obtenemos una muestra del dataset\n",
    "data_muestra = df.sample(n=2500)\n",
    "# Mostramos los datos de la muestra\n",
    "data_muestra.head()"
   ]
  },
  {
   "cell_type": "code",
   "execution_count": 111,
   "id": "6b3ceb39",
   "metadata": {},
   "outputs": [
    {
     "data": {
      "text/plain": [
       "id                    2500\n",
       "name                  2500\n",
       "est_diameter_min      2500\n",
       "est_diameter_max      2500\n",
       "relative_velocity     2500\n",
       "miss_distance         2500\n",
       "orbiting_body         2500\n",
       "sentry_object         2500\n",
       "absolute_magnitude    2500\n",
       "hazardous             2500\n",
       "dtype: int64"
      ]
     },
     "execution_count": 111,
     "metadata": {},
     "output_type": "execute_result"
    }
   ],
   "source": [
    "# Contamos los registros del dataset\n",
    "data_muestra.count()"
   ]
  },
  {
   "cell_type": "markdown",
   "id": "a9e583c2",
   "metadata": {},
   "source": [
    "# Estadisticas generales\n"
   ]
  },
  {
   "cell_type": "code",
   "execution_count": 112,
   "id": "e8247ec0",
   "metadata": {},
   "outputs": [
    {
     "data": {
      "text/html": [
       "<div>\n",
       "<style scoped>\n",
       "    .dataframe tbody tr th:only-of-type {\n",
       "        vertical-align: middle;\n",
       "    }\n",
       "\n",
       "    .dataframe tbody tr th {\n",
       "        vertical-align: top;\n",
       "    }\n",
       "\n",
       "    .dataframe thead th {\n",
       "        text-align: right;\n",
       "    }\n",
       "</style>\n",
       "<table border=\"1\" class=\"dataframe\">\n",
       "  <thead>\n",
       "    <tr style=\"text-align: right;\">\n",
       "      <th></th>\n",
       "      <th>id</th>\n",
       "      <th>est_diameter_min</th>\n",
       "      <th>est_diameter_max</th>\n",
       "      <th>relative_velocity</th>\n",
       "      <th>miss_distance</th>\n",
       "      <th>absolute_magnitude</th>\n",
       "    </tr>\n",
       "  </thead>\n",
       "  <tbody>\n",
       "    <tr>\n",
       "      <th>count</th>\n",
       "      <td>2.500000e+03</td>\n",
       "      <td>2500.000000</td>\n",
       "      <td>2500.000000</td>\n",
       "      <td>2500.000000</td>\n",
       "      <td>2.500000e+03</td>\n",
       "      <td>2500.000000</td>\n",
       "    </tr>\n",
       "    <tr>\n",
       "      <th>mean</th>\n",
       "      <td>1.441607e+07</td>\n",
       "      <td>0.128781</td>\n",
       "      <td>0.287962</td>\n",
       "      <td>48343.240231</td>\n",
       "      <td>3.737305e+07</td>\n",
       "      <td>23.458837</td>\n",
       "    </tr>\n",
       "    <tr>\n",
       "      <th>std</th>\n",
       "      <td>2.088593e+07</td>\n",
       "      <td>0.232094</td>\n",
       "      <td>0.518979</td>\n",
       "      <td>25698.400812</td>\n",
       "      <td>2.230592e+07</td>\n",
       "      <td>2.867067</td>\n",
       "    </tr>\n",
       "    <tr>\n",
       "      <th>min</th>\n",
       "      <td>2.001620e+06</td>\n",
       "      <td>0.001058</td>\n",
       "      <td>0.002366</td>\n",
       "      <td>2430.163418</td>\n",
       "      <td>6.529192e+04</td>\n",
       "      <td>14.340000</td>\n",
       "    </tr>\n",
       "    <tr>\n",
       "      <th>25%</th>\n",
       "      <td>3.467630e+06</td>\n",
       "      <td>0.020163</td>\n",
       "      <td>0.045086</td>\n",
       "      <td>28404.274779</td>\n",
       "      <td>1.737633e+07</td>\n",
       "      <td>21.300000</td>\n",
       "    </tr>\n",
       "    <tr>\n",
       "      <th>50%</th>\n",
       "      <td>3.753694e+06</td>\n",
       "      <td>0.049837</td>\n",
       "      <td>0.111440</td>\n",
       "      <td>44806.365708</td>\n",
       "      <td>3.870836e+07</td>\n",
       "      <td>23.635000</td>\n",
       "    </tr>\n",
       "    <tr>\n",
       "      <th>75%</th>\n",
       "      <td>3.892400e+06</td>\n",
       "      <td>0.146068</td>\n",
       "      <td>0.326618</td>\n",
       "      <td>62777.646183</td>\n",
       "      <td>5.708928e+07</td>\n",
       "      <td>25.600000</td>\n",
       "    </tr>\n",
       "    <tr>\n",
       "      <th>max</th>\n",
       "      <td>5.427130e+07</td>\n",
       "      <td>3.602093</td>\n",
       "      <td>8.054526</td>\n",
       "      <td>183551.907545</td>\n",
       "      <td>7.479865e+07</td>\n",
       "      <td>32.000000</td>\n",
       "    </tr>\n",
       "  </tbody>\n",
       "</table>\n",
       "</div>"
      ],
      "text/plain": [
       "                 id  est_diameter_min  est_diameter_max  relative_velocity  \\\n",
       "count  2.500000e+03       2500.000000       2500.000000        2500.000000   \n",
       "mean   1.441607e+07          0.128781          0.287962       48343.240231   \n",
       "std    2.088593e+07          0.232094          0.518979       25698.400812   \n",
       "min    2.001620e+06          0.001058          0.002366        2430.163418   \n",
       "25%    3.467630e+06          0.020163          0.045086       28404.274779   \n",
       "50%    3.753694e+06          0.049837          0.111440       44806.365708   \n",
       "75%    3.892400e+06          0.146068          0.326618       62777.646183   \n",
       "max    5.427130e+07          3.602093          8.054526      183551.907545   \n",
       "\n",
       "       miss_distance  absolute_magnitude  \n",
       "count   2.500000e+03         2500.000000  \n",
       "mean    3.737305e+07           23.458837  \n",
       "std     2.230592e+07            2.867067  \n",
       "min     6.529192e+04           14.340000  \n",
       "25%     1.737633e+07           21.300000  \n",
       "50%     3.870836e+07           23.635000  \n",
       "75%     5.708928e+07           25.600000  \n",
       "max     7.479865e+07           32.000000  "
      ]
     },
     "execution_count": 112,
     "metadata": {},
     "output_type": "execute_result"
    }
   ],
   "source": [
    "#Se hace una descripcion para ver como esta conformado el dataset \n",
    "data_muestra.describe()"
   ]
  },
  {
   "cell_type": "markdown",
   "id": "c730c54e",
   "metadata": {},
   "source": [
    "# Describir resultados estadísticos\n"
   ]
  },
  {
   "cell_type": "markdown",
   "id": "67a11bcd",
   "metadata": {},
   "source": [
    "Podemos observar una descripción general de los datos de muestra del dataset, observamos la media, varinza, valores minimos y valores maximos. Esto nos da un idea de como esta organizada la data del dataset."
   ]
  },
  {
   "cell_type": "markdown",
   "id": "7e8e7153",
   "metadata": {},
   "source": [
    "# Descripción de la data\n"
   ]
  },
  {
   "cell_type": "code",
   "execution_count": 113,
   "id": "88e921f7",
   "metadata": {},
   "outputs": [
    {
     "name": "stdout",
     "output_type": "stream",
     "text": [
      "<class 'pandas.core.frame.DataFrame'>\n",
      "Int64Index: 2500 entries, 81740 to 69202\n",
      "Data columns (total 10 columns):\n",
      " #   Column              Non-Null Count  Dtype  \n",
      "---  ------              --------------  -----  \n",
      " 0   id                  2500 non-null   int64  \n",
      " 1   name                2500 non-null   object \n",
      " 2   est_diameter_min    2500 non-null   float64\n",
      " 3   est_diameter_max    2500 non-null   float64\n",
      " 4   relative_velocity   2500 non-null   float64\n",
      " 5   miss_distance       2500 non-null   float64\n",
      " 6   orbiting_body       2500 non-null   object \n",
      " 7   sentry_object       2500 non-null   bool   \n",
      " 8   absolute_magnitude  2500 non-null   float64\n",
      " 9   hazardous           2500 non-null   bool   \n",
      "dtypes: bool(2), float64(5), int64(1), object(2)\n",
      "memory usage: 180.7+ KB\n"
     ]
    }
   ],
   "source": [
    "# Mostramos la estructura de los atributos del dataset\n",
    "data_muestra.info()"
   ]
  },
  {
   "cell_type": "markdown",
   "id": "0052238a",
   "metadata": {},
   "source": [
    "# Limpieza del dataset"
   ]
  },
  {
   "cell_type": "code",
   "execution_count": 114,
   "id": "241e8cfb",
   "metadata": {},
   "outputs": [
    {
     "data": {
      "text/plain": [
       "id                    0\n",
       "name                  0\n",
       "est_diameter_min      0\n",
       "est_diameter_max      0\n",
       "relative_velocity     0\n",
       "miss_distance         0\n",
       "orbiting_body         0\n",
       "sentry_object         0\n",
       "absolute_magnitude    0\n",
       "hazardous             0\n",
       "dtype: int64"
      ]
     },
     "execution_count": 114,
     "metadata": {},
     "output_type": "execute_result"
    }
   ],
   "source": [
    "#Verificamos la existencia de datos nulos\n",
    "data_muestra.isnull().sum()"
   ]
  },
  {
   "cell_type": "code",
   "execution_count": 115,
   "id": "2af38bdf",
   "metadata": {},
   "outputs": [
    {
     "data": {
      "text/plain": [
       "id                    0\n",
       "name                  0\n",
       "est_diameter_min      0\n",
       "est_diameter_max      0\n",
       "relative_velocity     0\n",
       "miss_distance         0\n",
       "orbiting_body         0\n",
       "sentry_object         0\n",
       "absolute_magnitude    0\n",
       "hazardous             0\n",
       "dtype: int64"
      ]
     },
     "execution_count": 115,
     "metadata": {},
     "output_type": "execute_result"
    }
   ],
   "source": [
    "#Verificamos la existencia  de datos vacios (longitud = 0)\n",
    "data_muestra.isna().sum()"
   ]
  },
  {
   "cell_type": "code",
   "execution_count": 116,
   "id": "96676f20",
   "metadata": {},
   "outputs": [],
   "source": [
    "#Eliminamos las columnas que no utilizaremos\n",
    "data_muestra = data_muestra.drop(columns=['id','name', 'orbiting_body', 'sentry_object'])"
   ]
  },
  {
   "cell_type": "markdown",
   "id": "6df2520b",
   "metadata": {},
   "source": [
    "# Resultados de la limpieza\n",
    "El dataset no registra datos nulos, por lo cual no requiere aplicarse una limpieza sobre el mismo, lo unico que haremos es retirar las columnas que no seran utiles para el entrenamiento de los modelos. Las columnas afectadas seran id y nombre."
   ]
  },
  {
   "cell_type": "markdown",
   "id": "58d36d76",
   "metadata": {},
   "source": [
    "# Transformación de datos categoricos\n"
   ]
  },
  {
   "cell_type": "code",
   "execution_count": 117,
   "id": "3a282152",
   "metadata": {},
   "outputs": [
    {
     "data": {
      "text/plain": [
       "est_diameter_min       641\n",
       "est_diameter_max       641\n",
       "relative_velocity     2500\n",
       "miss_distance         2500\n",
       "absolute_magnitude     641\n",
       "hazardous                2\n",
       "dtype: int64"
      ]
     },
     "execution_count": 117,
     "metadata": {},
     "output_type": "execute_result"
    }
   ],
   "source": [
    "# Encontramos los valores unicos para identificar aquellos que son categoricos y los que son continuos\n",
    "data_muestra.nunique()"
   ]
  },
  {
   "cell_type": "code",
   "execution_count": 118,
   "id": "5256a073",
   "metadata": {},
   "outputs": [
    {
     "data": {
      "text/html": [
       "<div>\n",
       "<style scoped>\n",
       "    .dataframe tbody tr th:only-of-type {\n",
       "        vertical-align: middle;\n",
       "    }\n",
       "\n",
       "    .dataframe tbody tr th {\n",
       "        vertical-align: top;\n",
       "    }\n",
       "\n",
       "    .dataframe thead th {\n",
       "        text-align: right;\n",
       "    }\n",
       "</style>\n",
       "<table border=\"1\" class=\"dataframe\">\n",
       "  <thead>\n",
       "    <tr style=\"text-align: right;\">\n",
       "      <th></th>\n",
       "      <th>est_diameter_min</th>\n",
       "      <th>est_diameter_max</th>\n",
       "      <th>relative_velocity</th>\n",
       "      <th>miss_distance</th>\n",
       "      <th>absolute_magnitude</th>\n",
       "      <th>hazardous</th>\n",
       "    </tr>\n",
       "  </thead>\n",
       "  <tbody>\n",
       "    <tr>\n",
       "      <th>81740</th>\n",
       "      <td>0.024241</td>\n",
       "      <td>0.054205</td>\n",
       "      <td>23896.393181</td>\n",
       "      <td>7.999801e+06</td>\n",
       "      <td>25.20</td>\n",
       "      <td>0</td>\n",
       "    </tr>\n",
       "    <tr>\n",
       "      <th>33208</th>\n",
       "      <td>0.016016</td>\n",
       "      <td>0.035813</td>\n",
       "      <td>28966.710838</td>\n",
       "      <td>2.067081e+07</td>\n",
       "      <td>26.10</td>\n",
       "      <td>0</td>\n",
       "    </tr>\n",
       "    <tr>\n",
       "      <th>42743</th>\n",
       "      <td>0.058151</td>\n",
       "      <td>0.130029</td>\n",
       "      <td>24140.974272</td>\n",
       "      <td>7.466856e+07</td>\n",
       "      <td>23.30</td>\n",
       "      <td>0</td>\n",
       "    </tr>\n",
       "    <tr>\n",
       "      <th>10165</th>\n",
       "      <td>0.007491</td>\n",
       "      <td>0.016751</td>\n",
       "      <td>23112.953726</td>\n",
       "      <td>3.301052e+07</td>\n",
       "      <td>27.75</td>\n",
       "      <td>0</td>\n",
       "    </tr>\n",
       "    <tr>\n",
       "      <th>89534</th>\n",
       "      <td>0.041933</td>\n",
       "      <td>0.093765</td>\n",
       "      <td>65154.483812</td>\n",
       "      <td>3.260286e+06</td>\n",
       "      <td>24.01</td>\n",
       "      <td>0</td>\n",
       "    </tr>\n",
       "  </tbody>\n",
       "</table>\n",
       "</div>"
      ],
      "text/plain": [
       "       est_diameter_min  est_diameter_max  relative_velocity  miss_distance  \\\n",
       "81740          0.024241          0.054205       23896.393181   7.999801e+06   \n",
       "33208          0.016016          0.035813       28966.710838   2.067081e+07   \n",
       "42743          0.058151          0.130029       24140.974272   7.466856e+07   \n",
       "10165          0.007491          0.016751       23112.953726   3.301052e+07   \n",
       "89534          0.041933          0.093765       65154.483812   3.260286e+06   \n",
       "\n",
       "       absolute_magnitude  hazardous  \n",
       "81740               25.20          0  \n",
       "33208               26.10          0  \n",
       "42743               23.30          0  \n",
       "10165               27.75          0  \n",
       "89534               24.01          0  "
      ]
     },
     "execution_count": 118,
     "metadata": {},
     "output_type": "execute_result"
    }
   ],
   "source": [
    "#Creamnos la instancia de labelencoder\n",
    "labelencoder = LabelEncoder()\n",
    "\n",
    "#Asignamos los valores numericos a seller_type y los almacenamos en otra columnna\n",
    "data_muestra[\"hazardous\"] = labelencoder.fit_transform(data_muestra[\"hazardous\"])\n",
    "\n",
    "# Mostramos las nuevas columnas\n",
    "data_muestra.head()"
   ]
  },
  {
   "cell_type": "markdown",
   "id": "64c9dcd5",
   "metadata": {},
   "source": [
    "# Preprocesamiento de datos"
   ]
  },
  {
   "cell_type": "code",
   "execution_count": 120,
   "id": "7861579a",
   "metadata": {},
   "outputs": [
    {
     "data": {
      "text/plain": [
       "((2000, 5), (500, 5))"
      ]
     },
     "execution_count": 120,
     "metadata": {},
     "output_type": "execute_result"
    }
   ],
   "source": [
    "# Separamos los datos de entrenamiento y prueba\n",
    "X_train, X_test, y_train, y_test = train_test_split(data_muestra.drop('hazardous', axis=1),\n",
    "                                                    data_muestra['hazardous'],\n",
    "                                                    test_size=0.2,\n",
    "                                                    random_state=0)\n",
    "\n",
    "X_train.shape, X_test.shape"
   ]
  },
  {
   "cell_type": "markdown",
   "id": "69d4faa5",
   "metadata": {},
   "source": [
    "# Min-Max Scaler"
   ]
  },
  {
   "cell_type": "markdown",
   "id": "14f7ed97",
   "metadata": {},
   "source": [
    "Utilizaremos el metodo MinMaxScaler(), para reducir la dispersión de los datos de las variables independientes para el modelo de Naive Bayes."
   ]
  },
  {
   "cell_type": "code",
   "execution_count": 121,
   "id": "e3812365",
   "metadata": {},
   "outputs": [],
   "source": [
    "# Instanciamos el scalar\n",
    "scaler = MinMaxScaler()\n",
    "\n",
    "# Entrenamos el modelo con los datos de entrenamiento\n",
    "scaler.fit(X_train)\n",
    "\n",
    "# Transformamos los datos de entrenamiento\n",
    "X_train_scaled = scaler.transform(X_train)\n",
    "# Transformamos los datos de prueba\n",
    "X_test_scaled = scaler.transform(X_test)"
   ]
  },
  {
   "cell_type": "code",
   "execution_count": 122,
   "id": "00e98c58",
   "metadata": {},
   "outputs": [],
   "source": [
    "# Transformamos la matriz de entrenamiento NumPy devuelta \n",
    "X_train_scaled = pd.DataFrame(X_train_scaled, columns=X_train.columns)\n",
    "# Transformamos la matriz de prueba NumPy devuelta \n",
    "X_test_scaled = pd.DataFrame(X_test_scaled, columns=X_test.columns)"
   ]
  },
  {
   "cell_type": "code",
   "execution_count": 123,
   "id": "57cfd678",
   "metadata": {},
   "outputs": [
    {
     "data": {
      "text/html": [
       "<div>\n",
       "<style scoped>\n",
       "    .dataframe tbody tr th:only-of-type {\n",
       "        vertical-align: middle;\n",
       "    }\n",
       "\n",
       "    .dataframe tbody tr th {\n",
       "        vertical-align: top;\n",
       "    }\n",
       "\n",
       "    .dataframe thead th {\n",
       "        text-align: right;\n",
       "    }\n",
       "</style>\n",
       "<table border=\"1\" class=\"dataframe\">\n",
       "  <thead>\n",
       "    <tr style=\"text-align: right;\">\n",
       "      <th></th>\n",
       "      <th>est_diameter_min</th>\n",
       "      <th>est_diameter_max</th>\n",
       "      <th>relative_velocity</th>\n",
       "      <th>miss_distance</th>\n",
       "      <th>absolute_magnitude</th>\n",
       "    </tr>\n",
       "  </thead>\n",
       "  <tbody>\n",
       "    <tr>\n",
       "      <th>count</th>\n",
       "      <td>2000.000000</td>\n",
       "      <td>2000.000000</td>\n",
       "      <td>2000.000000</td>\n",
       "      <td>2.000000e+03</td>\n",
       "      <td>2000.000000</td>\n",
       "    </tr>\n",
       "    <tr>\n",
       "      <th>mean</th>\n",
       "      <td>0.129600</td>\n",
       "      <td>0.289795</td>\n",
       "      <td>48180.774306</td>\n",
       "      <td>3.718747e+07</td>\n",
       "      <td>23.469153</td>\n",
       "    </tr>\n",
       "    <tr>\n",
       "      <th>std</th>\n",
       "      <td>0.236813</td>\n",
       "      <td>0.529530</td>\n",
       "      <td>25633.805956</td>\n",
       "      <td>2.232584e+07</td>\n",
       "      <td>2.890138</td>\n",
       "    </tr>\n",
       "    <tr>\n",
       "      <th>min</th>\n",
       "      <td>0.001058</td>\n",
       "      <td>0.002366</td>\n",
       "      <td>2430.163418</td>\n",
       "      <td>6.529192e+04</td>\n",
       "      <td>14.340000</td>\n",
       "    </tr>\n",
       "    <tr>\n",
       "      <th>25%</th>\n",
       "      <td>0.020163</td>\n",
       "      <td>0.045086</td>\n",
       "      <td>28096.304507</td>\n",
       "      <td>1.699746e+07</td>\n",
       "      <td>21.300000</td>\n",
       "    </tr>\n",
       "    <tr>\n",
       "      <th>50%</th>\n",
       "      <td>0.048368</td>\n",
       "      <td>0.108153</td>\n",
       "      <td>44747.253851</td>\n",
       "      <td>3.842894e+07</td>\n",
       "      <td>23.700000</td>\n",
       "    </tr>\n",
       "    <tr>\n",
       "      <th>75%</th>\n",
       "      <td>0.146068</td>\n",
       "      <td>0.326618</td>\n",
       "      <td>62773.823531</td>\n",
       "      <td>5.702669e+07</td>\n",
       "      <td>25.600000</td>\n",
       "    </tr>\n",
       "    <tr>\n",
       "      <th>max</th>\n",
       "      <td>3.602093</td>\n",
       "      <td>8.054526</td>\n",
       "      <td>183551.907545</td>\n",
       "      <td>7.479865e+07</td>\n",
       "      <td>32.000000</td>\n",
       "    </tr>\n",
       "  </tbody>\n",
       "</table>\n",
       "</div>"
      ],
      "text/plain": [
       "       est_diameter_min  est_diameter_max  relative_velocity  miss_distance  \\\n",
       "count       2000.000000       2000.000000        2000.000000   2.000000e+03   \n",
       "mean           0.129600          0.289795       48180.774306   3.718747e+07   \n",
       "std            0.236813          0.529530       25633.805956   2.232584e+07   \n",
       "min            0.001058          0.002366        2430.163418   6.529192e+04   \n",
       "25%            0.020163          0.045086       28096.304507   1.699746e+07   \n",
       "50%            0.048368          0.108153       44747.253851   3.842894e+07   \n",
       "75%            0.146068          0.326618       62773.823531   5.702669e+07   \n",
       "max            3.602093          8.054526      183551.907545   7.479865e+07   \n",
       "\n",
       "       absolute_magnitude  \n",
       "count         2000.000000  \n",
       "mean            23.469153  \n",
       "std              2.890138  \n",
       "min             14.340000  \n",
       "25%             21.300000  \n",
       "50%             23.700000  \n",
       "75%             25.600000  \n",
       "max             32.000000  "
      ]
     },
     "execution_count": 123,
     "metadata": {},
     "output_type": "execute_result"
    }
   ],
   "source": [
    "# Observamos una estadistica general de los datos de entrenamiento\n",
    "X_train.describe()"
   ]
  },
  {
   "cell_type": "code",
   "execution_count": 124,
   "id": "b9921d76",
   "metadata": {
    "scrolled": true
   },
   "outputs": [
    {
     "data": {
      "image/png": "[encoded data removed]",
      "text/plain": [
       "<Figure size 864x360 with 2 Axes>"
      ]
     },
     "metadata": {
      "needs_background": "light"
     },
     "output_type": "display_data"
    }
   ],
   "source": [
    "# Asignaremos la escala de la figura\n",
    "fig, (ax1, ax2) = plt.subplots(ncols=2, figsize=(12, 5))\n",
    "\n",
    "# Creamos el grafico antes de ser escalado\n",
    "# Asignamos un titulo al grafico\n",
    "ax1.set_title('Antes de ser Escalados')\n",
    "# Elegimos los datos a graficar\n",
    "sns.kdeplot(X_train['est_diameter_min'], ax=ax1)\n",
    "# Elegimos los datos a graficar\n",
    "sns.kdeplot(X_train['est_diameter_max'], ax=ax1)\n",
    "# Elegimos los datos a graficar\n",
    "sns.kdeplot(X_train['relative_velocity'], ax=ax1)\n",
    "# Elegimos los datos a graficar\n",
    "sns.kdeplot(X_train['miss_distance'], ax=ax1)\n",
    "# Elegimos los datos a graficar\n",
    "sns.kdeplot(X_train['absolute_magnitude'], ax=ax1)\n",
    "\n",
    "# Creamos el grafico despues normalización media\n",
    "# Asignamos un titulo al grafico\n",
    "ax2.set_title('Despues del escalado Min-Max')\n",
    "# Elegimos los datos a graficar\n",
    "sns.kdeplot(X_train_scaled['est_diameter_min'], ax=ax2)\n",
    "# Elegimos los datos a graficar\n",
    "sns.kdeplot(X_train_scaled['est_diameter_max'], ax=ax2)\n",
    "# Elegimos los datos a graficar\n",
    "sns.kdeplot(X_train_scaled['relative_velocity'], ax=ax2)\n",
    "# Elegimos los datos a graficar\n",
    "sns.kdeplot(X_train_scaled['miss_distance'], ax=ax2)\n",
    "# Elegimos los datos a graficar\n",
    "sns.kdeplot(X_train_scaled['absolute_magnitude'], ax=ax2)\n",
    "\n",
    "\n",
    "# Mostramos las graficas\n",
    "plt.show()"
   ]
  },
  {
   "cell_type": "markdown",
   "id": "79b07de7",
   "metadata": {},
   "source": [
    "# Standarisation"
   ]
  },
  {
   "cell_type": "markdown",
   "id": "5498339d",
   "metadata": {},
   "source": [
    "Utilizaremos el metodo Standarisation, para reducir la dispersión de los datos de las variables independientes para el modelo de Hiden Markov."
   ]
  },
  {
   "cell_type": "code",
   "execution_count": 125,
   "id": "226a7acb",
   "metadata": {},
   "outputs": [],
   "source": [
    "# Instanciamos el escalar\n",
    "scaler_ST = StandardScaler()\n",
    "\n",
    "# Alimentamos el escalar con los datos de entrenamiento\n",
    "scaler_ST.fit(X_train)\n",
    "\n",
    "# transformamos los datos de entrenamiento\n",
    "X_train_scaled_ST = scaler.transform(X_train)\n",
    "# transformamos los datos de prueba\n",
    "X_test_scaled_ST = scaler.transform(X_test)"
   ]
  },
  {
   "cell_type": "code",
   "execution_count": 126,
   "id": "a3c7deb6",
   "metadata": {},
   "outputs": [
    {
     "data": {
      "text/plain": [
       "array([1.29600329e-01, 2.89795146e-01, 4.81807743e+04, 3.71874731e+07,\n",
       "       2.34691530e+01])"
      ]
     },
     "execution_count": 126,
     "metadata": {},
     "output_type": "execute_result"
    }
   ],
   "source": [
    "# Mostramos los datos aprendidos por el escalar\n",
    "scaler_ST.mean_"
   ]
  },
  {
   "cell_type": "code",
   "execution_count": 127,
   "id": "41a8aea4",
   "metadata": {},
   "outputs": [],
   "source": [
    "# Transformamos en un dataframe los datos obtenidos del array de emtrenamiento\n",
    "X_train_scaled_ST = pd.DataFrame(X_train_scaled_ST, columns=X_train.columns)\n",
    "# Transformamos en un dataframe los datos obtenidos del array de emtrenamiento\n",
    "X_test_scaled_ST = pd.DataFrame(X_test_scaled_ST, columns=X_test.columns)"
   ]
  },
  {
   "cell_type": "code",
   "execution_count": 128,
   "id": "44d9bef8",
   "metadata": {},
   "outputs": [
    {
     "data": {
      "image/png": "[encoded data removed]",
      "text/plain": [
       "<Figure size 864x360 with 2 Axes>"
      ]
     },
     "metadata": {
      "needs_background": "light"
     },
     "output_type": "display_data"
    }
   ],
   "source": [
    "# Asignaremos la escala de la figura\n",
    "fig, (ax1, ax2) = plt.subplots(ncols=2, figsize=(12, 5))\n",
    "\n",
    "# Creamos el grafico antes de ser escalado\n",
    "# Asignamos un titulo al grafico\n",
    "ax1.set_title('Antes de ser Escalados')\n",
    "# Elegimos los datos a graficar\n",
    "sns.kdeplot(X_train['est_diameter_min'], ax=ax1)\n",
    "# Elegimos los datos a graficar\n",
    "sns.kdeplot(X_train['est_diameter_max'], ax=ax1)\n",
    "# Elegimos los datos a graficar\n",
    "sns.kdeplot(X_train['relative_velocity'], ax=ax1)\n",
    "# Elegimos los datos a graficar\n",
    "sns.kdeplot(X_train['miss_distance'], ax=ax1)\n",
    "# Elegimos los datos a graficar\n",
    "sns.kdeplot(X_train['absolute_magnitude'], ax=ax1)\n",
    "\n",
    "# Creamos el grafico despues normalización media\n",
    "# Asignamos un titulo al grafico\n",
    "ax2.set_title('Despues del escalado Min-Max')\n",
    "# Elegimos los datos a graficar\n",
    "sns.kdeplot(X_train_scaled_ST['est_diameter_min'], ax=ax2)\n",
    "# Elegimos los datos a graficar\n",
    "sns.kdeplot(X_train_scaled_ST['est_diameter_max'], ax=ax2)\n",
    "# Elegimos los datos a graficar\n",
    "sns.kdeplot(X_train_scaled_ST['relative_velocity'], ax=ax2)\n",
    "# Elegimos los datos a graficar\n",
    "sns.kdeplot(X_train_scaled_ST['miss_distance'], ax=ax2)\n",
    "# Elegimos los datos a graficar\n",
    "sns.kdeplot(X_train_scaled_ST['absolute_magnitude'], ax=ax2)\n",
    "\n",
    "\n",
    "# Mostramos las graficas\n",
    "plt.show()"
   ]
  },
  {
   "cell_type": "markdown",
   "id": "3b59fcf7",
   "metadata": {},
   "source": [
    "# Resultados de la normalización\n",
    "Podemos observar como los datos se han normalizado, ubicandose en un rango entre -1 y 1. De esta manera facilitamos el entrenamiento de los modelos predicción probabilisticos."
   ]
  },
  {
   "cell_type": "markdown",
   "id": "1a149448",
   "metadata": {},
   "source": [
    "# Naive Bayes"
   ]
  },
  {
   "cell_type": "code",
   "execution_count": 129,
   "id": "38c19b78",
   "metadata": {},
   "outputs": [],
   "source": [
    "# Instanciamos el algoritmo gauciano de Naive Bayes\n",
    "gnb = GaussianNB()"
   ]
  },
  {
   "cell_type": "code",
   "execution_count": 130,
   "id": "7280b6c8",
   "metadata": {},
   "outputs": [],
   "source": [
    "# Alimentamos nuestro modelo con los datos de entrenamiento\n",
    "# y obtenemos la predicción\n",
    "y_pred_NB = gnb.fit(X_train_scaled, y_train.values.ravel()).predict(X_test)"
   ]
  },
  {
   "cell_type": "code",
   "execution_count": 131,
   "id": "a2a4df0f",
   "metadata": {},
   "outputs": [
    {
     "name": "stdout",
     "output_type": "stream",
     "text": [
      "Accuracy Naive Bayes: 0.904\n"
     ]
    }
   ],
   "source": [
    "# Mostramos el accuracy del modelo Naive Bayes\n",
    "print(\"Accuracy Naive Bayes:\", metrics.accuracy_score(y_test, y_pred_NB))"
   ]
  },
  {
   "cell_type": "markdown",
   "id": "9ea19ea6",
   "metadata": {},
   "source": [
    "# Hidden Markov Model"
   ]
  },
  {
   "cell_type": "code",
   "execution_count": 132,
   "id": "3af9aa88",
   "metadata": {},
   "outputs": [
    {
     "data": {
      "text/plain": [
       "GaussianHMM(n_components=3, n_iter=50, random_state=42)"
      ]
     },
     "execution_count": 132,
     "metadata": {},
     "output_type": "execute_result"
    }
   ],
   "source": [
    "# Instanciamos el modelo Hidden Markov Model\n",
    "model = hmm.GaussianHMM(n_components = 3, covariance_type = \"diag\", n_iter = 50, random_state = 42)\n",
    "\n",
    "# Entrenamos el modelo con los datos de entrenamiento\n",
    "model.fit(X_train_scaled_ST)"
   ]
  },
  {
   "cell_type": "code",
   "execution_count": 133,
   "id": "7ecb33d7",
   "metadata": {},
   "outputs": [],
   "source": [
    "# realizamos la prueba de predicción del model\n",
    "y_pred_HMM = model.predict(X_test)"
   ]
  },
  {
   "cell_type": "code",
   "execution_count": 134,
   "id": "b8a23436",
   "metadata": {},
   "outputs": [
    {
     "name": "stdout",
     "output_type": "stream",
     "text": [
      "Accuracy Hidden Markov Model: 0.902\n"
     ]
    }
   ],
   "source": [
    "# Mostramos el accuracy del modelo Hidden Markov Model\n",
    "print(\"Accuracy Hidden Markov Model:\", metrics.accuracy_score(y_test, y_pred_HMM))"
   ]
  },
  {
   "cell_type": "markdown",
   "id": "d89ad60b",
   "metadata": {},
   "source": [
    "# Fuzzy Logic"
   ]
  },
  {
   "cell_type": "code",
   "execution_count": 29,
   "id": "83bb21f9",
   "metadata": {},
   "outputs": [
    {
     "ename": "NameError",
     "evalue": "name 'process' is not defined",
     "output_type": "error",
     "traceback": [
      "\u001b[1;31m---------------------------------------------------------------------------\u001b[0m",
      "\u001b[1;31mNameError\u001b[0m                                 Traceback (most recent call last)",
      "\u001b[1;32m~\\AppData\\Local\\Temp/ipykernel_18400/1031849696.py\u001b[0m in \u001b[0;36m<module>\u001b[1;34m\u001b[0m\n\u001b[0;32m      1\u001b[0m \u001b[0mstr2Match\u001b[0m \u001b[1;33m=\u001b[0m \u001b[1;34m\"1\"\u001b[0m\u001b[1;33m\u001b[0m\u001b[1;33m\u001b[0m\u001b[0m\n\u001b[0;32m      2\u001b[0m \u001b[1;33m\u001b[0m\u001b[0m\n\u001b[1;32m----> 3\u001b[1;33m \u001b[0mhighest\u001b[0m \u001b[1;33m=\u001b[0m \u001b[0mprocess\u001b[0m\u001b[1;33m.\u001b[0m\u001b[0mextractOne\u001b[0m\u001b[1;33m(\u001b[0m\u001b[0mstr2Match\u001b[0m\u001b[1;33m,\u001b[0m\u001b[0my_train\u001b[0m\u001b[1;33m)\u001b[0m\u001b[1;33m\u001b[0m\u001b[1;33m\u001b[0m\u001b[0m\n\u001b[0m\u001b[0;32m      4\u001b[0m \u001b[0mprint\u001b[0m\u001b[1;33m(\u001b[0m\u001b[0mhighest\u001b[0m\u001b[1;33m)\u001b[0m\u001b[1;33m\u001b[0m\u001b[1;33m\u001b[0m\u001b[0m\n",
      "\u001b[1;31mNameError\u001b[0m: name 'process' is not defined"
     ]
    }
   ],
   "source": [
    "str2Match = \"1\"\n",
    "\n",
    "highest = process.extractOne(str2Match,y_train)\n",
    "print(highest)"
   ]
  },
  {
   "cell_type": "markdown",
   "id": "b25b80a3",
   "metadata": {},
   "source": [
    "# Matriz de confusión (Naive Bayes)"
   ]
  },
  {
   "cell_type": "code",
   "execution_count": 135,
   "id": "35fd19d6",
   "metadata": {},
   "outputs": [
    {
     "name": "stdout",
     "output_type": "stream",
     "text": [
      "[[452   0]\n",
      " [ 48   0]]\n"
     ]
    }
   ],
   "source": [
    "#Cramos la matriz de confusión\n",
    "print(confusion_matrix(y_test, y_pred_NB))"
   ]
  },
  {
   "cell_type": "code",
   "execution_count": 136,
   "id": "6dea3982",
   "metadata": {},
   "outputs": [
    {
     "data": {
      "text/plain": [
       "<AxesSubplot:>"
      ]
     },
     "execution_count": 136,
     "metadata": {},
     "output_type": "execute_result"
    },
    {
     "data": {
      "image/png": "[encoded data removed]",
      "text/plain": [
       "<Figure size 432x288 with 2 Axes>"
      ]
     },
     "metadata": {
      "needs_background": "light"
     },
     "output_type": "display_data"
    }
   ],
   "source": [
    "# Presentamos de forma estetica la matriz de confución\n",
    "sns.heatmap(confusion_matrix(y_test, y_pred_NB), annot=True)"
   ]
  },
  {
   "cell_type": "code",
   "execution_count": 137,
   "id": "361baba7",
   "metadata": {},
   "outputs": [
    {
     "data": {
      "text/plain": [
       "0.904"
      ]
     },
     "execution_count": 137,
     "metadata": {},
     "output_type": "execute_result"
    }
   ],
   "source": [
    "# Obtenemos el accuracy del modelo Naive Bayes\n",
    "accuracy_score(y_test, y_pred_NB)"
   ]
  },
  {
   "cell_type": "code",
   "execution_count": 138,
   "id": "7dc750e3",
   "metadata": {},
   "outputs": [
    {
     "data": {
      "text/plain": [
       "array([1., 0.])"
      ]
     },
     "execution_count": 138,
     "metadata": {},
     "output_type": "execute_result"
    }
   ],
   "source": [
    "# Obtenemos el recall del modelo Naive Bayes\n",
    "recall_score(y_test, y_pred_NB, average=None)"
   ]
  },
  {
   "cell_type": "code",
   "execution_count": 142,
   "id": "f5be89a7",
   "metadata": {},
   "outputs": [
    {
     "name": "stderr",
     "output_type": "stream",
     "text": [
      "C:\\ProgramData\\Anaconda3\\lib\\site-packages\\sklearn\\metrics\\_classification.py:1248: UndefinedMetricWarning: Precision is ill-defined and being set to 0.0 in labels with no predicted samples. Use `zero_division` parameter to control this behavior.\n",
      "  _warn_prf(average, modifier, msg_start, len(result))\n"
     ]
    },
    {
     "data": {
      "text/plain": [
       "array([0.904, 0.   ])"
      ]
     },
     "execution_count": 142,
     "metadata": {},
     "output_type": "execute_result"
    }
   ],
   "source": [
    "# Obtenemos la precisión del modelo Naive Bayes\n",
    "precision_score(y_test, y_pred_NB, average=None)"
   ]
  },
  {
   "cell_type": "code",
   "execution_count": 143,
   "id": "7798ff5c",
   "metadata": {},
   "outputs": [
    {
     "data": {
      "text/plain": [
       "array([0.94957983, 0.        ])"
      ]
     },
     "execution_count": 143,
     "metadata": {},
     "output_type": "execute_result"
    }
   ],
   "source": [
    "# Obtenemos f1-score del modelo Naive Bayes\n",
    "f1_score(y_test, y_pred_NB, average=None)"
   ]
  },
  {
   "cell_type": "markdown",
   "id": "3cd4b6b7",
   "metadata": {},
   "source": [
    "# Matriz de confusión (Hidden Markov Model)\n"
   ]
  },
  {
   "cell_type": "code",
   "execution_count": 144,
   "id": "275448ac",
   "metadata": {},
   "outputs": [
    {
     "name": "stdout",
     "output_type": "stream",
     "text": [
      "[[451   0   1]\n",
      " [ 48   0   0]\n",
      " [  0   0   0]]\n"
     ]
    }
   ],
   "source": [
    "#Cramos la matriz de confusión\n",
    "print(confusion_matrix(y_test, y_pred_HMM))"
   ]
  },
  {
   "cell_type": "code",
   "execution_count": 145,
   "id": "8ff3c951",
   "metadata": {},
   "outputs": [
    {
     "data": {
      "text/plain": [
       "<AxesSubplot:>"
      ]
     },
     "execution_count": 145,
     "metadata": {},
     "output_type": "execute_result"
    },
    {
     "data": {
      "image/png": "[encoded data removed]",
      "text/plain": [
       "<Figure size 432x288 with 2 Axes>"
      ]
     },
     "metadata": {
      "needs_background": "light"
     },
     "output_type": "display_data"
    }
   ],
   "source": [
    "# Presentamos de forma estetica la matriz de confución\n",
    "sns.heatmap(confusion_matrix(y_test, y_pred_HMM), annot=True)"
   ]
  },
  {
   "cell_type": "code",
   "execution_count": 146,
   "id": "3992608d",
   "metadata": {},
   "outputs": [
    {
     "data": {
      "text/plain": [
       "0.902"
      ]
     },
     "execution_count": 146,
     "metadata": {},
     "output_type": "execute_result"
    }
   ],
   "source": [
    "# Obtenemos f1-score del modelo Hidden Markov Model\n",
    "accuracy_score(y_test, y_pred_HMM)"
   ]
  },
  {
   "cell_type": "code",
   "execution_count": 147,
   "id": "8c835397",
   "metadata": {},
   "outputs": [
    {
     "name": "stderr",
     "output_type": "stream",
     "text": [
      "C:\\ProgramData\\Anaconda3\\lib\\site-packages\\sklearn\\metrics\\_classification.py:1248: UndefinedMetricWarning: Recall is ill-defined and being set to 0.0 in labels with no true samples. Use `zero_division` parameter to control this behavior.\n",
      "  _warn_prf(average, modifier, msg_start, len(result))\n"
     ]
    },
    {
     "data": {
      "text/plain": [
       "array([0.99778761, 0.        , 0.        ])"
      ]
     },
     "execution_count": 147,
     "metadata": {},
     "output_type": "execute_result"
    }
   ],
   "source": [
    "# Obtenemos el recall del modelo Hidden Markov Model\n",
    "recall_score(y_test, y_pred_HMM, average=None)"
   ]
  },
  {
   "cell_type": "code",
   "execution_count": 148,
   "id": "03d131f9",
   "metadata": {},
   "outputs": [
    {
     "name": "stderr",
     "output_type": "stream",
     "text": [
      "C:\\ProgramData\\Anaconda3\\lib\\site-packages\\sklearn\\metrics\\_classification.py:1248: UndefinedMetricWarning: Precision is ill-defined and being set to 0.0 in labels with no predicted samples. Use `zero_division` parameter to control this behavior.\n",
      "  _warn_prf(average, modifier, msg_start, len(result))\n"
     ]
    },
    {
     "data": {
      "text/plain": [
       "array([0.90380762, 0.        , 0.        ])"
      ]
     },
     "execution_count": 148,
     "metadata": {},
     "output_type": "execute_result"
    }
   ],
   "source": [
    "# Obtenemos la precisión del modelo Hidden Markov Model\n",
    "precision_score(y_test, y_pred_HMM, average=None)"
   ]
  },
  {
   "cell_type": "code",
   "execution_count": 149,
   "id": "264cdbbf",
   "metadata": {},
   "outputs": [
    {
     "data": {
      "text/plain": [
       "array([0.94847529, 0.        , 0.        ])"
      ]
     },
     "execution_count": 149,
     "metadata": {},
     "output_type": "execute_result"
    }
   ],
   "source": [
    "# Obtenemos f1-score del modelo Hidden Markov Model\n",
    "f1_score(y_test, y_pred_HMM, average=None)"
   ]
  },
  {
   "cell_type": "code",
   "execution_count": null,
   "id": "58bfd3c9",
   "metadata": {},
   "outputs": [],
   "source": []
  }
 ],
 "metadata": {
  "kernelspec": {
   "display_name": "Python 3 (ipykernel)",
   "language": "python",
   "name": "python3"
  },
  "language_info": {
   "codemirror_mode": {
    "name": "ipython",
    "version": 3
   },
   "file_extension": ".py",
   "mimetype": "text/x-python",
   "name": "python",
   "nbconvert_exporter": "python",
   "pygments_lexer": "ipython3",
   "version": "3.9.7"
  }
 },
 "nbformat": 4,
 "nbformat_minor": 5
}
