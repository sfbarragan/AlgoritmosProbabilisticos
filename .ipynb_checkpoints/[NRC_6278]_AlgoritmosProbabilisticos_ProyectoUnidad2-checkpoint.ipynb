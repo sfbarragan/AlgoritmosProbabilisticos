{
 "cells": [
  {
   "cell_type": "code",
   "execution_count": 1,
   "id": "c744a9a6",
   "metadata": {},
   "outputs": [],
   "source": [
    "#Importamos la libreria pandas\n",
    "import pandas as pd \n",
    "#Importamos la libreria seaborn\n",
    "import seaborn as sns\n",
    "#Importamos la libreria numpy\n",
    "import numpy as np\n",
    "#Importamos LabelEncoder desde la libreria sklearn\n",
    "from sklearn.preprocessing import LabelEncoder\n",
    "#Importamos train_test_split desde la libreria sklearn\n",
    "from sklearn.model_selection import train_test_split\n",
    "#Importamos MinMaxScaler desde la libreria sklearn\n",
    "from sklearn.preprocessing import MinMaxScaler\n",
    "#Importamos la libreria matplotlib\n",
    "import matplotlib.pyplot as plt\n",
    "#Importamos GaussianNB desde la libreria sklearn\n",
    "from sklearn.naive_bayes import GaussianNB\n",
    "#Importamos Metric desde la libreria sklearn\n",
    "from sklearn import metrics\n",
    "#Importamos la libreria collections\n",
    "import collections\n",
    "#Importamos hiden markov model desde la libreria hmmlearn\n",
    "#from hmmlearn import hmm\n",
    "#Importamos confusion_matrix desde la libreria sklearn\n",
    "from sklearn.metrics import confusion_matrix\n",
    "# Importamos acurracy_score desde la libreria sklearn\n",
    "from sklearn.metrics import accuracy_score\n",
    "#Importamos recall_score desde la libreria sklearn\n",
    "from sklearn.metrics import recall_score\n",
    "#Importamos precision_score desde la libreria sklearn\n",
    "from sklearn.metrics import precision_score\n",
    "#Importamos f1_score desde la libreria sklearn\n",
    "from sklearn.metrics import f1_score\n",
    "#Importamos la libreria de fuzzy logic\n",
    "#from fuzzywuzzy import process\n",
    "#Importamos StandardScaler de la libreria sklearn\n",
    "from sklearn.preprocessing import StandardScaler"
   ]
  },
  {
   "cell_type": "code",
   "execution_count": 2,
   "id": "59913ad7",
   "metadata": {},
   "outputs": [
    {
     "data": {
      "text/html": [
       "<div>\n",
       "<style scoped>\n",
       "    .dataframe tbody tr th:only-of-type {\n",
       "        vertical-align: middle;\n",
       "    }\n",
       "\n",
       "    .dataframe tbody tr th {\n",
       "        vertical-align: top;\n",
       "    }\n",
       "\n",
       "    .dataframe thead th {\n",
       "        text-align: right;\n",
       "    }\n",
       "</style>\n",
       "<table border=\"1\" class=\"dataframe\">\n",
       "  <thead>\n",
       "    <tr style=\"text-align: right;\">\n",
       "      <th></th>\n",
       "      <th>id</th>\n",
       "      <th>name</th>\n",
       "      <th>est_diameter_min</th>\n",
       "      <th>est_diameter_max</th>\n",
       "      <th>relative_velocity</th>\n",
       "      <th>miss_distance</th>\n",
       "      <th>orbiting_body</th>\n",
       "      <th>sentry_object</th>\n",
       "      <th>absolute_magnitude</th>\n",
       "      <th>hazardous</th>\n",
       "    </tr>\n",
       "  </thead>\n",
       "  <tbody>\n",
       "    <tr>\n",
       "      <th>0</th>\n",
       "      <td>2162635</td>\n",
       "      <td>162635 (2000 SS164)</td>\n",
       "      <td>1.198271</td>\n",
       "      <td>2.679415</td>\n",
       "      <td>13569.249224</td>\n",
       "      <td>5.483974e+07</td>\n",
       "      <td>Earth</td>\n",
       "      <td>False</td>\n",
       "      <td>16.73</td>\n",
       "      <td>False</td>\n",
       "    </tr>\n",
       "    <tr>\n",
       "      <th>1</th>\n",
       "      <td>2277475</td>\n",
       "      <td>277475 (2005 WK4)</td>\n",
       "      <td>0.265800</td>\n",
       "      <td>0.594347</td>\n",
       "      <td>73588.726663</td>\n",
       "      <td>6.143813e+07</td>\n",
       "      <td>Earth</td>\n",
       "      <td>False</td>\n",
       "      <td>20.00</td>\n",
       "      <td>True</td>\n",
       "    </tr>\n",
       "    <tr>\n",
       "      <th>2</th>\n",
       "      <td>2512244</td>\n",
       "      <td>512244 (2015 YE18)</td>\n",
       "      <td>0.722030</td>\n",
       "      <td>1.614507</td>\n",
       "      <td>114258.692129</td>\n",
       "      <td>4.979872e+07</td>\n",
       "      <td>Earth</td>\n",
       "      <td>False</td>\n",
       "      <td>17.83</td>\n",
       "      <td>False</td>\n",
       "    </tr>\n",
       "    <tr>\n",
       "      <th>3</th>\n",
       "      <td>3596030</td>\n",
       "      <td>(2012 BV13)</td>\n",
       "      <td>0.096506</td>\n",
       "      <td>0.215794</td>\n",
       "      <td>24764.303138</td>\n",
       "      <td>2.543497e+07</td>\n",
       "      <td>Earth</td>\n",
       "      <td>False</td>\n",
       "      <td>22.20</td>\n",
       "      <td>False</td>\n",
       "    </tr>\n",
       "    <tr>\n",
       "      <th>4</th>\n",
       "      <td>3667127</td>\n",
       "      <td>(2014 GE35)</td>\n",
       "      <td>0.255009</td>\n",
       "      <td>0.570217</td>\n",
       "      <td>42737.733765</td>\n",
       "      <td>4.627557e+07</td>\n",
       "      <td>Earth</td>\n",
       "      <td>False</td>\n",
       "      <td>20.09</td>\n",
       "      <td>True</td>\n",
       "    </tr>\n",
       "  </tbody>\n",
       "</table>\n",
       "</div>"
      ],
      "text/plain": [
       "        id                 name  est_diameter_min  est_diameter_max  \\\n",
       "0  2162635  162635 (2000 SS164)          1.198271          2.679415   \n",
       "1  2277475    277475 (2005 WK4)          0.265800          0.594347   \n",
       "2  2512244   512244 (2015 YE18)          0.722030          1.614507   \n",
       "3  3596030          (2012 BV13)          0.096506          0.215794   \n",
       "4  3667127          (2014 GE35)          0.255009          0.570217   \n",
       "\n",
       "   relative_velocity  miss_distance orbiting_body  sentry_object  \\\n",
       "0       13569.249224   5.483974e+07         Earth          False   \n",
       "1       73588.726663   6.143813e+07         Earth          False   \n",
       "2      114258.692129   4.979872e+07         Earth          False   \n",
       "3       24764.303138   2.543497e+07         Earth          False   \n",
       "4       42737.733765   4.627557e+07         Earth          False   \n",
       "\n",
       "   absolute_magnitude  hazardous  \n",
       "0               16.73      False  \n",
       "1               20.00       True  \n",
       "2               17.83      False  \n",
       "3               22.20      False  \n",
       "4               20.09       True  "
      ]
     },
     "execution_count": 2,
     "metadata": {},
     "output_type": "execute_result"
    }
   ],
   "source": [
    "# Establecemos el enlace de conexión del dataset\n",
    "url = 'https://raw.githubusercontent.com/sfbarragan/AlgoritmosProbabilisticos/master/neo.csv'\n",
    "# Cargamos el dataset\n",
    "df = pd.read_csv(url)\n",
    "# Mostramos los datos del dataset\n",
    "df.head()"
   ]
  },
  {
   "cell_type": "markdown",
   "id": "1d4223d7",
   "metadata": {},
   "source": [
    "# Descripción del dataset\n",
    "\n",
    "El dataset contiene información de mas de 90000 asteroides. Dicho dataset contiene 10 atributos, incluida una característica de clase (objetivo) que indica si el asteroide es o no peligroso (True/False). El significado comercial de cada columna (atributo) en los datos es el siguiente:\n",
    "\n",
    "**Variable objetivo**<br>\n",
    "hazardous: Clasificación del asteroide como peligroso o no (True/False).<br>\n",
    "\n",
    "**Variables de entrada**<br>\n",
    "id: Identificador único de cada asteroide <br>\n",
    "name: Nombre del asteroide dado por la NASA<br>\n",
    "est_diameter_min: Diámetro mínimo estimado en kilómetros<br>\n",
    "est_diameter_max: Diámetro Máximo Estimado en Kilómetros<br>\n",
    "relative_velocity: Velocidad relativa a la Tierra<br>\n",
    "miss_distance: Distancia en Kilómetros perdidos<br>\n",
    "orbiting_body: Planeta que órbita el asteroide<br>\n",
    "sentry_object: Sistema automatizado de monitoreo de colisiones<br>\n",
    "absolute_magnitude: Describe la luminosidad intrínseca<br>\n"
   ]
  },
  {
   "cell_type": "markdown",
   "id": "504929cf",
   "metadata": {},
   "source": [
    "# Problema a resolver\n",
    "\n",
    "Este dataset contiene varios parámetros/características según los cuales un asteroide en particular que ya está clasificado como el objeto más cercano a la Tierra. En base a dichos parámetros se desea predecir si el asteroide puede o no ser peligroso.\n",
    "\n",
    "Como conocemos que no podemos procesar esa cantidad de datos, hemos optado por realizar un sampling de los datos tomado como muestra un total de 2500 datos para entrenar el modelo. Donde la variable objetivo se denomina hazardous. Existen 9 variables de entrada llamadas: id, name, est_diameter_min, est_diameter_max, relative_velocity, miss_distance, orbiting_body, sentry_object y absolute_magnitude."
   ]
  },
  {
   "cell_type": "code",
   "execution_count": 3,
   "id": "35e020d3",
   "metadata": {},
   "outputs": [
    {
     "data": {
      "text/html": [
       "<div>\n",
       "<style scoped>\n",
       "    .dataframe tbody tr th:only-of-type {\n",
       "        vertical-align: middle;\n",
       "    }\n",
       "\n",
       "    .dataframe tbody tr th {\n",
       "        vertical-align: top;\n",
       "    }\n",
       "\n",
       "    .dataframe thead th {\n",
       "        text-align: right;\n",
       "    }\n",
       "</style>\n",
       "<table border=\"1\" class=\"dataframe\">\n",
       "  <thead>\n",
       "    <tr style=\"text-align: right;\">\n",
       "      <th></th>\n",
       "      <th>id</th>\n",
       "      <th>name</th>\n",
       "      <th>est_diameter_min</th>\n",
       "      <th>est_diameter_max</th>\n",
       "      <th>relative_velocity</th>\n",
       "      <th>miss_distance</th>\n",
       "      <th>orbiting_body</th>\n",
       "      <th>sentry_object</th>\n",
       "      <th>absolute_magnitude</th>\n",
       "      <th>hazardous</th>\n",
       "    </tr>\n",
       "  </thead>\n",
       "  <tbody>\n",
       "    <tr>\n",
       "      <th>9194</th>\n",
       "      <td>3792462</td>\n",
       "      <td>(2017 YD)</td>\n",
       "      <td>0.021113</td>\n",
       "      <td>0.047211</td>\n",
       "      <td>41173.567906</td>\n",
       "      <td>4.030595e+07</td>\n",
       "      <td>Earth</td>\n",
       "      <td>False</td>\n",
       "      <td>25.50</td>\n",
       "      <td>False</td>\n",
       "    </tr>\n",
       "    <tr>\n",
       "      <th>90591</th>\n",
       "      <td>3994621</td>\n",
       "      <td>(2020 DT2)</td>\n",
       "      <td>0.008027</td>\n",
       "      <td>0.017949</td>\n",
       "      <td>49475.956157</td>\n",
       "      <td>5.478926e+07</td>\n",
       "      <td>Earth</td>\n",
       "      <td>False</td>\n",
       "      <td>27.60</td>\n",
       "      <td>False</td>\n",
       "    </tr>\n",
       "    <tr>\n",
       "      <th>80085</th>\n",
       "      <td>3789485</td>\n",
       "      <td>(2017 WV1)</td>\n",
       "      <td>0.005553</td>\n",
       "      <td>0.012418</td>\n",
       "      <td>70409.590407</td>\n",
       "      <td>6.269029e+07</td>\n",
       "      <td>Earth</td>\n",
       "      <td>False</td>\n",
       "      <td>28.40</td>\n",
       "      <td>False</td>\n",
       "    </tr>\n",
       "    <tr>\n",
       "      <th>83450</th>\n",
       "      <td>54101718</td>\n",
       "      <td>(2020 YC3)</td>\n",
       "      <td>0.244655</td>\n",
       "      <td>0.547066</td>\n",
       "      <td>67987.904735</td>\n",
       "      <td>5.921640e+07</td>\n",
       "      <td>Earth</td>\n",
       "      <td>False</td>\n",
       "      <td>20.18</td>\n",
       "      <td>True</td>\n",
       "    </tr>\n",
       "    <tr>\n",
       "      <th>46011</th>\n",
       "      <td>3578688</td>\n",
       "      <td>(2011 SR12)</td>\n",
       "      <td>0.319562</td>\n",
       "      <td>0.714562</td>\n",
       "      <td>85809.835601</td>\n",
       "      <td>3.524894e+07</td>\n",
       "      <td>Earth</td>\n",
       "      <td>False</td>\n",
       "      <td>19.60</td>\n",
       "      <td>False</td>\n",
       "    </tr>\n",
       "  </tbody>\n",
       "</table>\n",
       "</div>"
      ],
      "text/plain": [
       "             id         name  est_diameter_min  est_diameter_max  \\\n",
       "9194    3792462    (2017 YD)          0.021113          0.047211   \n",
       "90591   3994621   (2020 DT2)          0.008027          0.017949   \n",
       "80085   3789485   (2017 WV1)          0.005553          0.012418   \n",
       "83450  54101718   (2020 YC3)          0.244655          0.547066   \n",
       "46011   3578688  (2011 SR12)          0.319562          0.714562   \n",
       "\n",
       "       relative_velocity  miss_distance orbiting_body  sentry_object  \\\n",
       "9194        41173.567906   4.030595e+07         Earth          False   \n",
       "90591       49475.956157   5.478926e+07         Earth          False   \n",
       "80085       70409.590407   6.269029e+07         Earth          False   \n",
       "83450       67987.904735   5.921640e+07         Earth          False   \n",
       "46011       85809.835601   3.524894e+07         Earth          False   \n",
       "\n",
       "       absolute_magnitude  hazardous  \n",
       "9194                25.50      False  \n",
       "90591               27.60      False  \n",
       "80085               28.40      False  \n",
       "83450               20.18       True  \n",
       "46011               19.60      False  "
      ]
     },
     "execution_count": 3,
     "metadata": {},
     "output_type": "execute_result"
    }
   ],
   "source": [
    "# Obtenemos una muestra del dataset\n",
    "data_muestra = df.sample(n=2500)\n",
    "# Mostramos los datos de la muestra\n",
    "data_muestra.head()"
   ]
  },
  {
   "cell_type": "code",
   "execution_count": 4,
   "id": "60edee9d",
   "metadata": {},
   "outputs": [
    {
     "data": {
      "text/plain": [
       "id                    2500\n",
       "name                  2500\n",
       "est_diameter_min      2500\n",
       "est_diameter_max      2500\n",
       "relative_velocity     2500\n",
       "miss_distance         2500\n",
       "orbiting_body         2500\n",
       "sentry_object         2500\n",
       "absolute_magnitude    2500\n",
       "hazardous             2500\n",
       "dtype: int64"
      ]
     },
     "execution_count": 4,
     "metadata": {},
     "output_type": "execute_result"
    }
   ],
   "source": [
    "# Contamos los registros del dataset\n",
    "data_muestra.count()"
   ]
  },
  {
   "cell_type": "markdown",
   "id": "6192a349",
   "metadata": {},
   "source": [
    "# Estadisticas generales\n"
   ]
  },
  {
   "cell_type": "code",
   "execution_count": 5,
   "id": "1fda9126",
   "metadata": {},
   "outputs": [
    {
     "data": {
      "text/html": [
       "<div>\n",
       "<style scoped>\n",
       "    .dataframe tbody tr th:only-of-type {\n",
       "        vertical-align: middle;\n",
       "    }\n",
       "\n",
       "    .dataframe tbody tr th {\n",
       "        vertical-align: top;\n",
       "    }\n",
       "\n",
       "    .dataframe thead th {\n",
       "        text-align: right;\n",
       "    }\n",
       "</style>\n",
       "<table border=\"1\" class=\"dataframe\">\n",
       "  <thead>\n",
       "    <tr style=\"text-align: right;\">\n",
       "      <th></th>\n",
       "      <th>id</th>\n",
       "      <th>est_diameter_min</th>\n",
       "      <th>est_diameter_max</th>\n",
       "      <th>relative_velocity</th>\n",
       "      <th>miss_distance</th>\n",
       "      <th>absolute_magnitude</th>\n",
       "    </tr>\n",
       "  </thead>\n",
       "  <tbody>\n",
       "    <tr>\n",
       "      <th>count</th>\n",
       "      <td>2.500000e+03</td>\n",
       "      <td>2500.000000</td>\n",
       "      <td>2500.000000</td>\n",
       "      <td>2500.000000</td>\n",
       "      <td>2.500000e+03</td>\n",
       "      <td>2500.000000</td>\n",
       "    </tr>\n",
       "    <tr>\n",
       "      <th>mean</th>\n",
       "      <td>1.438517e+07</td>\n",
       "      <td>0.130540</td>\n",
       "      <td>0.291897</td>\n",
       "      <td>48797.034405</td>\n",
       "      <td>3.743882e+07</td>\n",
       "      <td>23.456856</td>\n",
       "    </tr>\n",
       "    <tr>\n",
       "      <th>std</th>\n",
       "      <td>2.087742e+07</td>\n",
       "      <td>0.249019</td>\n",
       "      <td>0.556824</td>\n",
       "      <td>25045.956413</td>\n",
       "      <td>2.248432e+07</td>\n",
       "      <td>2.879889</td>\n",
       "    </tr>\n",
       "    <tr>\n",
       "      <th>min</th>\n",
       "      <td>2.001943e+06</td>\n",
       "      <td>0.001058</td>\n",
       "      <td>0.002366</td>\n",
       "      <td>2601.909336</td>\n",
       "      <td>1.430546e+04</td>\n",
       "      <td>14.130000</td>\n",
       "    </tr>\n",
       "    <tr>\n",
       "      <th>25%</th>\n",
       "      <td>3.467247e+06</td>\n",
       "      <td>0.020163</td>\n",
       "      <td>0.045086</td>\n",
       "      <td>29554.914035</td>\n",
       "      <td>1.782002e+07</td>\n",
       "      <td>21.300000</td>\n",
       "    </tr>\n",
       "    <tr>\n",
       "      <th>50%</th>\n",
       "      <td>3.746470e+06</td>\n",
       "      <td>0.048368</td>\n",
       "      <td>0.108153</td>\n",
       "      <td>46117.203929</td>\n",
       "      <td>3.864467e+07</td>\n",
       "      <td>23.700000</td>\n",
       "    </tr>\n",
       "    <tr>\n",
       "      <th>75%</th>\n",
       "      <td>3.892174e+06</td>\n",
       "      <td>0.146068</td>\n",
       "      <td>0.326618</td>\n",
       "      <td>64275.146198</td>\n",
       "      <td>5.704828e+07</td>\n",
       "      <td>25.600000</td>\n",
       "    </tr>\n",
       "    <tr>\n",
       "      <th>max</th>\n",
       "      <td>5.427276e+07</td>\n",
       "      <td>3.967848</td>\n",
       "      <td>8.872377</td>\n",
       "      <td>151528.295999</td>\n",
       "      <td>7.477560e+07</td>\n",
       "      <td>32.000000</td>\n",
       "    </tr>\n",
       "  </tbody>\n",
       "</table>\n",
       "</div>"
      ],
      "text/plain": [
       "                 id  est_diameter_min  est_diameter_max  relative_velocity  \\\n",
       "count  2.500000e+03       2500.000000       2500.000000        2500.000000   \n",
       "mean   1.438517e+07          0.130540          0.291897       48797.034405   \n",
       "std    2.087742e+07          0.249019          0.556824       25045.956413   \n",
       "min    2.001943e+06          0.001058          0.002366        2601.909336   \n",
       "25%    3.467247e+06          0.020163          0.045086       29554.914035   \n",
       "50%    3.746470e+06          0.048368          0.108153       46117.203929   \n",
       "75%    3.892174e+06          0.146068          0.326618       64275.146198   \n",
       "max    5.427276e+07          3.967848          8.872377      151528.295999   \n",
       "\n",
       "       miss_distance  absolute_magnitude  \n",
       "count   2.500000e+03         2500.000000  \n",
       "mean    3.743882e+07           23.456856  \n",
       "std     2.248432e+07            2.879889  \n",
       "min     1.430546e+04           14.130000  \n",
       "25%     1.782002e+07           21.300000  \n",
       "50%     3.864467e+07           23.700000  \n",
       "75%     5.704828e+07           25.600000  \n",
       "max     7.477560e+07           32.000000  "
      ]
     },
     "execution_count": 5,
     "metadata": {},
     "output_type": "execute_result"
    }
   ],
   "source": [
    "#Se hace una descripcion para ver como esta conformado el dataset \n",
    "data_muestra.describe()"
   ]
  },
  {
   "cell_type": "markdown",
   "id": "423666ea",
   "metadata": {},
   "source": [
    "# Describir resultados estadísticos\n"
   ]
  },
  {
   "cell_type": "markdown",
   "id": "1ab6b4f1",
   "metadata": {},
   "source": [
    "Podemos observar una descripción general de los datos de muestra del dataset, observamos la media, varinza, valores minimos y valores maximos. Esto nos da un idea de como esta organizada la data del dataset."
   ]
  },
  {
   "cell_type": "markdown",
   "id": "efc4e176",
   "metadata": {},
   "source": [
    "# Descripción de la data\n"
   ]
  },
  {
   "cell_type": "code",
   "execution_count": 6,
   "id": "75df2760",
   "metadata": {},
   "outputs": [
    {
     "name": "stdout",
     "output_type": "stream",
     "text": [
      "<class 'pandas.core.frame.DataFrame'>\n",
      "Int64Index: 2500 entries, 9194 to 81448\n",
      "Data columns (total 10 columns):\n",
      " #   Column              Non-Null Count  Dtype  \n",
      "---  ------              --------------  -----  \n",
      " 0   id                  2500 non-null   int64  \n",
      " 1   name                2500 non-null   object \n",
      " 2   est_diameter_min    2500 non-null   float64\n",
      " 3   est_diameter_max    2500 non-null   float64\n",
      " 4   relative_velocity   2500 non-null   float64\n",
      " 5   miss_distance       2500 non-null   float64\n",
      " 6   orbiting_body       2500 non-null   object \n",
      " 7   sentry_object       2500 non-null   bool   \n",
      " 8   absolute_magnitude  2500 non-null   float64\n",
      " 9   hazardous           2500 non-null   bool   \n",
      "dtypes: bool(2), float64(5), int64(1), object(2)\n",
      "memory usage: 180.7+ KB\n"
     ]
    }
   ],
   "source": [
    "# Mostramos la estructura de los atributos del dataset\n",
    "data_muestra.info()"
   ]
  },
  {
   "cell_type": "markdown",
   "id": "95061da6",
   "metadata": {},
   "source": [
    "# Limpieza del dataset"
   ]
  },
  {
   "cell_type": "code",
   "execution_count": 7,
   "id": "97af1500",
   "metadata": {},
   "outputs": [
    {
     "data": {
      "text/plain": [
       "id                    0\n",
       "name                  0\n",
       "est_diameter_min      0\n",
       "est_diameter_max      0\n",
       "relative_velocity     0\n",
       "miss_distance         0\n",
       "orbiting_body         0\n",
       "sentry_object         0\n",
       "absolute_magnitude    0\n",
       "hazardous             0\n",
       "dtype: int64"
      ]
     },
     "execution_count": 7,
     "metadata": {},
     "output_type": "execute_result"
    }
   ],
   "source": [
    "#Verificamos la existencia de datos nulos\n",
    "data_muestra.isnull().sum()"
   ]
  },
  {
   "cell_type": "code",
   "execution_count": 8,
   "id": "f1e4c4e1",
   "metadata": {},
   "outputs": [
    {
     "data": {
      "text/plain": [
       "id                    0\n",
       "name                  0\n",
       "est_diameter_min      0\n",
       "est_diameter_max      0\n",
       "relative_velocity     0\n",
       "miss_distance         0\n",
       "orbiting_body         0\n",
       "sentry_object         0\n",
       "absolute_magnitude    0\n",
       "hazardous             0\n",
       "dtype: int64"
      ]
     },
     "execution_count": 8,
     "metadata": {},
     "output_type": "execute_result"
    }
   ],
   "source": [
    "#Verificamos la existencia  de datos vacios (longitud = 0)\n",
    "data_muestra.isna().sum()"
   ]
  },
  {
   "cell_type": "code",
   "execution_count": 9,
   "id": "cef3438b",
   "metadata": {},
   "outputs": [],
   "source": [
    "#Eliminamos las columnas que no utilizaremos\n",
    "data_muestra = data_muestra.drop(columns=['id','name'])"
   ]
  },
  {
   "cell_type": "markdown",
   "id": "16765e4b",
   "metadata": {},
   "source": [
    "# Resultados de la limpieza\n",
    "El dataset no registra datos nulos, por lo cual no requiere aplicarse una limpieza sobre el mismo, lo unico que haremos es retirar las columnas que no seran utiles para el entrenamiento de los modelos. Las columnas afectadas seran id y nombre."
   ]
  },
  {
   "cell_type": "markdown",
   "id": "06735ff4",
   "metadata": {},
   "source": [
    "# Transformación de datos categoricos\n"
   ]
  },
  {
   "cell_type": "code",
   "execution_count": 10,
   "id": "26f578da",
   "metadata": {},
   "outputs": [
    {
     "data": {
      "text/plain": [
       "est_diameter_min       653\n",
       "est_diameter_max       653\n",
       "relative_velocity     2500\n",
       "miss_distance         2500\n",
       "orbiting_body            1\n",
       "sentry_object            1\n",
       "absolute_magnitude     653\n",
       "hazardous                2\n",
       "dtype: int64"
      ]
     },
     "execution_count": 10,
     "metadata": {},
     "output_type": "execute_result"
    }
   ],
   "source": [
    "# Encontramos los valores unicos para identificar aquellos que son categoricos y los que son continuos\n",
    "data_muestra.nunique()"
   ]
  },
  {
   "cell_type": "code",
   "execution_count": 11,
   "id": "4ed2d519",
   "metadata": {},
   "outputs": [
    {
     "data": {
      "text/html": [
       "<div>\n",
       "<style scoped>\n",
       "    .dataframe tbody tr th:only-of-type {\n",
       "        vertical-align: middle;\n",
       "    }\n",
       "\n",
       "    .dataframe tbody tr th {\n",
       "        vertical-align: top;\n",
       "    }\n",
       "\n",
       "    .dataframe thead th {\n",
       "        text-align: right;\n",
       "    }\n",
       "</style>\n",
       "<table border=\"1\" class=\"dataframe\">\n",
       "  <thead>\n",
       "    <tr style=\"text-align: right;\">\n",
       "      <th></th>\n",
       "      <th>est_diameter_min</th>\n",
       "      <th>est_diameter_max</th>\n",
       "      <th>relative_velocity</th>\n",
       "      <th>miss_distance</th>\n",
       "      <th>orbiting_body</th>\n",
       "      <th>sentry_object</th>\n",
       "      <th>absolute_magnitude</th>\n",
       "      <th>hazardous</th>\n",
       "    </tr>\n",
       "  </thead>\n",
       "  <tbody>\n",
       "    <tr>\n",
       "      <th>9194</th>\n",
       "      <td>0.021113</td>\n",
       "      <td>0.047211</td>\n",
       "      <td>41173.567906</td>\n",
       "      <td>4.030595e+07</td>\n",
       "      <td>0</td>\n",
       "      <td>0</td>\n",
       "      <td>25.50</td>\n",
       "      <td>0</td>\n",
       "    </tr>\n",
       "    <tr>\n",
       "      <th>90591</th>\n",
       "      <td>0.008027</td>\n",
       "      <td>0.017949</td>\n",
       "      <td>49475.956157</td>\n",
       "      <td>5.478926e+07</td>\n",
       "      <td>0</td>\n",
       "      <td>0</td>\n",
       "      <td>27.60</td>\n",
       "      <td>0</td>\n",
       "    </tr>\n",
       "    <tr>\n",
       "      <th>80085</th>\n",
       "      <td>0.005553</td>\n",
       "      <td>0.012418</td>\n",
       "      <td>70409.590407</td>\n",
       "      <td>6.269029e+07</td>\n",
       "      <td>0</td>\n",
       "      <td>0</td>\n",
       "      <td>28.40</td>\n",
       "      <td>0</td>\n",
       "    </tr>\n",
       "    <tr>\n",
       "      <th>83450</th>\n",
       "      <td>0.244655</td>\n",
       "      <td>0.547066</td>\n",
       "      <td>67987.904735</td>\n",
       "      <td>5.921640e+07</td>\n",
       "      <td>0</td>\n",
       "      <td>0</td>\n",
       "      <td>20.18</td>\n",
       "      <td>1</td>\n",
       "    </tr>\n",
       "    <tr>\n",
       "      <th>46011</th>\n",
       "      <td>0.319562</td>\n",
       "      <td>0.714562</td>\n",
       "      <td>85809.835601</td>\n",
       "      <td>3.524894e+07</td>\n",
       "      <td>0</td>\n",
       "      <td>0</td>\n",
       "      <td>19.60</td>\n",
       "      <td>0</td>\n",
       "    </tr>\n",
       "  </tbody>\n",
       "</table>\n",
       "</div>"
      ],
      "text/plain": [
       "       est_diameter_min  est_diameter_max  relative_velocity  miss_distance  \\\n",
       "9194           0.021113          0.047211       41173.567906   4.030595e+07   \n",
       "90591          0.008027          0.017949       49475.956157   5.478926e+07   \n",
       "80085          0.005553          0.012418       70409.590407   6.269029e+07   \n",
       "83450          0.244655          0.547066       67987.904735   5.921640e+07   \n",
       "46011          0.319562          0.714562       85809.835601   3.524894e+07   \n",
       "\n",
       "       orbiting_body  sentry_object  absolute_magnitude  hazardous  \n",
       "9194               0              0               25.50          0  \n",
       "90591              0              0               27.60          0  \n",
       "80085              0              0               28.40          0  \n",
       "83450              0              0               20.18          1  \n",
       "46011              0              0               19.60          0  "
      ]
     },
     "execution_count": 11,
     "metadata": {},
     "output_type": "execute_result"
    }
   ],
   "source": [
    "#Creamnos la instancia de labelencoder\n",
    "labelencoder = LabelEncoder()\n",
    "\n",
    "#Transformamos los datos de la columna orbiting_body\n",
    "data_muestra[\"orbiting_body\"] = labelencoder.fit_transform(data_muestra[\"orbiting_body\"])\n",
    "#Asignamos los valores numericos a fuel y los almacenamos en otra columnna\n",
    "data_muestra[\"sentry_object\"] = labelencoder.fit_transform(data_muestra[\"sentry_object\"])\n",
    "#Asignamos los valores numericos a seller_type y los almacenamos en otra columnna\n",
    "data_muestra[\"hazardous\"] = labelencoder.fit_transform(data_muestra[\"hazardous\"])\n",
    "\n",
    "# Mostramos las nuevas columnas\n",
    "data_muestra.head()"
   ]
  },
  {
   "cell_type": "markdown",
   "id": "d8e16dfd",
   "metadata": {},
   "source": [
    "# Preprocesamiento de datos"
   ]
  },
  {
   "cell_type": "markdown",
   "id": "d290ed68",
   "metadata": {},
   "source": [
    "Utilizaremos el metodo MinMaxScaler(), para reducir la dispersión de los datos de las variables independientes."
   ]
  },
  {
   "cell_type": "code",
   "execution_count": 12,
   "id": "588541f4",
   "metadata": {},
   "outputs": [
    {
     "data": {
      "text/plain": [
       "((1750, 7), (750, 7))"
      ]
     },
     "execution_count": 12,
     "metadata": {},
     "output_type": "execute_result"
    }
   ],
   "source": [
    "# Separamos los datos de entrenamiento y prueba\n",
    "X_train, X_test, y_train, y_test = train_test_split(data_muestra.drop('hazardous', axis=1),\n",
    "                                                    data_muestra['hazardous'],\n",
    "                                                    test_size=0.3,\n",
    "                                                    random_state=0)\n",
    "\n",
    "X_train.shape, X_test.shape"
   ]
  },
  {
   "cell_type": "code",
   "execution_count": 13,
   "id": "c5039345",
   "metadata": {},
   "outputs": [],
   "source": [
    "# Instanciamos el scalar\n",
    "scaler = MinMaxScaler()\n",
    "\n",
    "# Entrenamos el modelo con los datos de entrenamiento\n",
    "scaler.fit(X_train)\n",
    "\n",
    "# Transformamos los datos de entrenamiento\n",
    "X_train_scaled = scaler.transform(X_train)\n",
    "# Transformamos los datos de prueba\n",
    "X_test_scaled = scaler.transform(X_test)"
   ]
  },
  {
   "cell_type": "code",
   "execution_count": 14,
   "id": "7a945644",
   "metadata": {},
   "outputs": [],
   "source": [
    "# Transformamos la matriz de entrenamiento NumPy devuelta \n",
    "X_train_scaled = pd.DataFrame(X_train_scaled, columns=X_train.columns)\n",
    "# Transformamos la matriz de prueba NumPy devuelta \n",
    "X_test_scaled = pd.DataFrame(X_test_scaled, columns=X_test.columns)"
   ]
  },
  {
   "cell_type": "code",
   "execution_count": 15,
   "id": "3bbb971f",
   "metadata": {},
   "outputs": [
    {
     "data": {
      "text/html": [
       "<div>\n",
       "<style scoped>\n",
       "    .dataframe tbody tr th:only-of-type {\n",
       "        vertical-align: middle;\n",
       "    }\n",
       "\n",
       "    .dataframe tbody tr th {\n",
       "        vertical-align: top;\n",
       "    }\n",
       "\n",
       "    .dataframe thead th {\n",
       "        text-align: right;\n",
       "    }\n",
       "</style>\n",
       "<table border=\"1\" class=\"dataframe\">\n",
       "  <thead>\n",
       "    <tr style=\"text-align: right;\">\n",
       "      <th></th>\n",
       "      <th>est_diameter_min</th>\n",
       "      <th>est_diameter_max</th>\n",
       "      <th>relative_velocity</th>\n",
       "      <th>miss_distance</th>\n",
       "      <th>orbiting_body</th>\n",
       "      <th>sentry_object</th>\n",
       "      <th>absolute_magnitude</th>\n",
       "    </tr>\n",
       "  </thead>\n",
       "  <tbody>\n",
       "    <tr>\n",
       "      <th>count</th>\n",
       "      <td>1750.000000</td>\n",
       "      <td>1750.000000</td>\n",
       "      <td>1750.000000</td>\n",
       "      <td>1.750000e+03</td>\n",
       "      <td>1750.0</td>\n",
       "      <td>1750.0</td>\n",
       "      <td>1750.000000</td>\n",
       "    </tr>\n",
       "    <tr>\n",
       "      <th>mean</th>\n",
       "      <td>0.136584</td>\n",
       "      <td>0.305411</td>\n",
       "      <td>49296.128344</td>\n",
       "      <td>3.792544e+07</td>\n",
       "      <td>0.0</td>\n",
       "      <td>0.0</td>\n",
       "      <td>23.399748</td>\n",
       "    </tr>\n",
       "    <tr>\n",
       "      <th>std</th>\n",
       "      <td>0.273203</td>\n",
       "      <td>0.610900</td>\n",
       "      <td>25087.050963</td>\n",
       "      <td>2.264324e+07</td>\n",
       "      <td>0.0</td>\n",
       "      <td>0.0</td>\n",
       "      <td>2.897391</td>\n",
       "    </tr>\n",
       "    <tr>\n",
       "      <th>min</th>\n",
       "      <td>0.001058</td>\n",
       "      <td>0.002366</td>\n",
       "      <td>2614.925252</td>\n",
       "      <td>1.430546e+04</td>\n",
       "      <td>0.0</td>\n",
       "      <td>0.0</td>\n",
       "      <td>14.130000</td>\n",
       "    </tr>\n",
       "    <tr>\n",
       "      <th>25%</th>\n",
       "      <td>0.020163</td>\n",
       "      <td>0.045086</td>\n",
       "      <td>30137.034388</td>\n",
       "      <td>1.800124e+07</td>\n",
       "      <td>0.0</td>\n",
       "      <td>0.0</td>\n",
       "      <td>21.260000</td>\n",
       "    </tr>\n",
       "    <tr>\n",
       "      <th>50%</th>\n",
       "      <td>0.050647</td>\n",
       "      <td>0.113250</td>\n",
       "      <td>46619.329612</td>\n",
       "      <td>3.920694e+07</td>\n",
       "      <td>0.0</td>\n",
       "      <td>0.0</td>\n",
       "      <td>23.600000</td>\n",
       "    </tr>\n",
       "    <tr>\n",
       "      <th>75%</th>\n",
       "      <td>0.148784</td>\n",
       "      <td>0.332690</td>\n",
       "      <td>65234.784912</td>\n",
       "      <td>5.818002e+07</td>\n",
       "      <td>0.0</td>\n",
       "      <td>0.0</td>\n",
       "      <td>25.600000</td>\n",
       "    </tr>\n",
       "    <tr>\n",
       "      <th>max</th>\n",
       "      <td>3.967848</td>\n",
       "      <td>8.872377</td>\n",
       "      <td>142068.411036</td>\n",
       "      <td>7.477560e+07</td>\n",
       "      <td>0.0</td>\n",
       "      <td>0.0</td>\n",
       "      <td>32.000000</td>\n",
       "    </tr>\n",
       "  </tbody>\n",
       "</table>\n",
       "</div>"
      ],
      "text/plain": [
       "       est_diameter_min  est_diameter_max  relative_velocity  miss_distance  \\\n",
       "count       1750.000000       1750.000000        1750.000000   1.750000e+03   \n",
       "mean           0.136584          0.305411       49296.128344   3.792544e+07   \n",
       "std            0.273203          0.610900       25087.050963   2.264324e+07   \n",
       "min            0.001058          0.002366        2614.925252   1.430546e+04   \n",
       "25%            0.020163          0.045086       30137.034388   1.800124e+07   \n",
       "50%            0.050647          0.113250       46619.329612   3.920694e+07   \n",
       "75%            0.148784          0.332690       65234.784912   5.818002e+07   \n",
       "max            3.967848          8.872377      142068.411036   7.477560e+07   \n",
       "\n",
       "       orbiting_body  sentry_object  absolute_magnitude  \n",
       "count         1750.0         1750.0         1750.000000  \n",
       "mean             0.0            0.0           23.399748  \n",
       "std              0.0            0.0            2.897391  \n",
       "min              0.0            0.0           14.130000  \n",
       "25%              0.0            0.0           21.260000  \n",
       "50%              0.0            0.0           23.600000  \n",
       "75%              0.0            0.0           25.600000  \n",
       "max              0.0            0.0           32.000000  "
      ]
     },
     "execution_count": 15,
     "metadata": {},
     "output_type": "execute_result"
    }
   ],
   "source": [
    "# Observamos una estadistica general de los datos de entrenamiento\n",
    "X_train.describe()"
   ]
  },
  {
   "cell_type": "code",
   "execution_count": 16,
   "id": "bb54f987",
   "metadata": {},
   "outputs": [
    {
     "data": {
      "image/png": "[encoded data removed]",
      "text/plain": [
       "<Figure size 864x360 with 2 Axes>"
      ]
     },
     "metadata": {
      "needs_background": "light"
     },
     "output_type": "display_data"
    }
   ],
   "source": [
    "# Asignaremos la escala de la figura\n",
    "fig, (ax1, ax2) = plt.subplots(ncols=2, figsize=(12, 5))\n",
    "\n",
    "# Creamos el grafico antes de ser escalado\n",
    "# Asignamos un titulo al grafico\n",
    "ax1.set_title('Antes de ser Escalados')\n",
    "# Elegimos los datos a graficar\n",
    "sns.kdeplot(X_train['est_diameter_min'], ax=ax1)\n",
    "# Elegimos los datos a graficar\n",
    "sns.kdeplot(X_train['est_diameter_max'], ax=ax1)\n",
    "# Elegimos los datos a graficar\n",
    "sns.kdeplot(X_train['relative_velocity'], ax=ax1)\n",
    "# Elegimos los datos a graficar\n",
    "sns.kdeplot(X_train['miss_distance'], ax=ax1)\n",
    "# Elegimos los datos a graficar\n",
    "sns.kdeplot(X_train['absolute_magnitude'], ax=ax1)\n",
    "\n",
    "# Creamos el grafico despues normalización media\n",
    "# Asignamos un titulo al grafico\n",
    "ax2.set_title('Despues del escalado Min-Max')\n",
    "# Elegimos los datos a graficar\n",
    "sns.kdeplot(X_train_scaled['est_diameter_min'], ax=ax2)\n",
    "# Elegimos los datos a graficar\n",
    "sns.kdeplot(X_train_scaled['est_diameter_max'], ax=ax2)\n",
    "# Elegimos los datos a graficar\n",
    "sns.kdeplot(X_train_scaled['relative_velocity'], ax=ax2)\n",
    "# Elegimos los datos a graficar\n",
    "sns.kdeplot(X_train_scaled['miss_distance'], ax=ax2)\n",
    "# Elegimos los datos a graficar\n",
    "sns.kdeplot(X_train_scaled['absolute_magnitude'], ax=ax2)\n",
    "\n",
    "\n",
    "# Mostramos las graficas\n",
    "plt.show()"
   ]
  },
  {
   "cell_type": "markdown",
   "id": "8fc49083",
   "metadata": {},
   "source": [
    "# Resultados de la normalización\n",
    "Podemos observar como los datos dispersos se han agrupado para facilitar el entrenamiento de los modelos predicción probabilisticos"
   ]
  },
  {
   "cell_type": "markdown",
   "id": "1818ac06",
   "metadata": {},
   "source": [
    "# Separamos los datos de entrenamiento y prueba"
   ]
  },
  {
   "cell_type": "code",
   "execution_count": 17,
   "id": "a2927737",
   "metadata": {},
   "outputs": [],
   "source": [
    "# Asignamos las variables dependientes\n",
    "X = data_muestra[['est_diameter_min', 'est_diameter_max', 'relative_velocity', 'miss_distance', 'orbiting_body', 'sentry_object', 'absolute_magnitude']]\n",
    "\n",
    "# Asignamos la variable objetivo\n",
    "y = data_muestra[['hazardous']]"
   ]
  },
  {
   "cell_type": "code",
   "execution_count": 18,
   "id": "ea180164",
   "metadata": {},
   "outputs": [],
   "source": [
    "# Asignamos los datos de entrenamiento y prueba\n",
    "X_train, X_test, y_train, y_test = train_test_split(X, y, test_size=0.3, random_state=1)"
   ]
  },
  {
   "cell_type": "code",
   "execution_count": 19,
   "id": "f5af1292",
   "metadata": {},
   "outputs": [
    {
     "data": {
      "text/plain": [
       "((1750, 7), (750, 1))"
      ]
     },
     "execution_count": 19,
     "metadata": {},
     "output_type": "execute_result"
    }
   ],
   "source": [
    "# Verificamos la cantidad de datos de entrenamiento y prueba\n",
    "X_train.shape, y_test.shape"
   ]
  },
  {
   "cell_type": "code",
   "execution_count": null,
   "id": "45cd4a7f",
   "metadata": {},
   "outputs": [],
   "source": []
  }
 ],
 "metadata": {
  "kernelspec": {
   "display_name": "Python 3 (ipykernel)",
   "language": "python",
   "name": "python3"
  },
  "language_info": {
   "codemirror_mode": {
    "name": "ipython",
    "version": 3
   },
   "file_extension": ".py",
   "mimetype": "text/x-python",
   "name": "python",
   "nbconvert_exporter": "python",
   "pygments_lexer": "ipython3",
   "version": "3.9.12"
  }
 },
 "nbformat": 4,
 "nbformat_minor": 5
}
